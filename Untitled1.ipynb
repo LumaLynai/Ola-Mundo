{
  "nbformat": 4,
  "nbformat_minor": 0,
  "metadata": {
    "colab": {
      "name": "Untitled1.ipynb",
      "provenance": [],
      "authorship_tag": "ABX9TyNY4wzdtvYRobp5bZ6UFVRG",
      "include_colab_link": true
    },
    "kernelspec": {
      "name": "python3",
      "display_name": "Python 3"
    },
    "language_info": {
      "name": "python"
    }
  },
  "cells": [
    {
      "cell_type": "markdown",
      "metadata": {
        "id": "view-in-github",
        "colab_type": "text"
      },
      "source": [
        "<a href=\"https://colab.research.google.com/github/LumaLynai/Ola-Mundo/blob/main/Untitled1.ipynb\" target=\"_parent\"><img src=\"https://colab.research.google.com/assets/colab-badge.svg\" alt=\"Open In Colab\"/></a>"
      ]
    },
    {
      "cell_type": "code",
      "execution_count": 1,
      "metadata": {
        "colab": {
          "base_uri": "https://localhost:8080/"
        },
        "id": "HNmmbuKAUAKg",
        "outputId": "40d433e4-4ed7-4cc1-c11b-00bbbae59dca"
      },
      "outputs": [
        {
          "output_type": "stream",
          "name": "stdout",
          "text": [
            "Looking in indexes: https://pypi.org/simple, https://us-python.pkg.dev/colab-wheels/public/simple/\n",
            "Requirement already satisfied: pandas in /usr/local/lib/python3.7/dist-packages (1.3.5)\n",
            "Requirement already satisfied: python-dateutil>=2.7.3 in /usr/local/lib/python3.7/dist-packages (from pandas) (2.8.2)\n",
            "Requirement already satisfied: numpy>=1.17.3 in /usr/local/lib/python3.7/dist-packages (from pandas) (1.21.6)\n",
            "Requirement already satisfied: pytz>=2017.3 in /usr/local/lib/python3.7/dist-packages (from pandas) (2022.1)\n",
            "Requirement already satisfied: six>=1.5 in /usr/local/lib/python3.7/dist-packages (from python-dateutil>=2.7.3->pandas) (1.15.0)\n"
          ]
        }
      ],
      "source": [
        "!pip install pandas"
      ]
    },
    {
      "cell_type": "code",
      "source": [
        "!pip install pyspark"
      ],
      "metadata": {
        "colab": {
          "base_uri": "https://localhost:8080/"
        },
        "id": "4jYmcHKaUmEB",
        "outputId": "cdafe5e5-1fb5-4473-cd73-c7229d73333c"
      },
      "execution_count": 2,
      "outputs": [
        {
          "output_type": "stream",
          "name": "stdout",
          "text": [
            "Looking in indexes: https://pypi.org/simple, https://us-python.pkg.dev/colab-wheels/public/simple/\n",
            "Collecting pyspark\n",
            "  Downloading pyspark-3.2.1.tar.gz (281.4 MB)\n",
            "\u001b[K     |████████████████████████████████| 281.4 MB 32 kB/s \n",
            "\u001b[?25hCollecting py4j==0.10.9.3\n",
            "  Downloading py4j-0.10.9.3-py2.py3-none-any.whl (198 kB)\n",
            "\u001b[K     |████████████████████████████████| 198 kB 54.9 MB/s \n",
            "\u001b[?25hBuilding wheels for collected packages: pyspark\n",
            "  Building wheel for pyspark (setup.py) ... \u001b[?25l\u001b[?25hdone\n",
            "  Created wheel for pyspark: filename=pyspark-3.2.1-py2.py3-none-any.whl size=281853642 sha256=bb0d7d623e24ca264fc47aa45b151265a6f79611d36f4033f11613d1f3ae8b4c\n",
            "  Stored in directory: /root/.cache/pip/wheels/9f/f5/07/7cd8017084dce4e93e84e92efd1e1d5334db05f2e83bcef74f\n",
            "Successfully built pyspark\n",
            "Installing collected packages: py4j, pyspark\n",
            "Successfully installed py4j-0.10.9.3 pyspark-3.2.1\n"
          ]
        }
      ]
    },
    {
      "cell_type": "code",
      "source": [
        "import pandas as pd \n",
        "import psycopg2"
      ],
      "metadata": {
        "id": "lcbsncq6UPZb"
      },
      "execution_count": 7,
      "outputs": []
    },
    {
      "cell_type": "code",
      "source": [
        "from google.colab import drive\n",
        "drive.mount('/content/drive')"
      ],
      "metadata": {
        "colab": {
          "base_uri": "https://localhost:8080/"
        },
        "id": "VBTBgoD9UPdU",
        "outputId": "2a02cd3e-454e-4831-a18d-70a60e9552e0"
      },
      "execution_count": 6,
      "outputs": [
        {
          "output_type": "stream",
          "name": "stdout",
          "text": [
            "Drive already mounted at /content/drive; to attempt to forcibly remount, call drive.mount(\"/content/drive\", force_remount=True).\n"
          ]
        }
      ]
    },
    {
      "cell_type": "markdown",
      "source": [
        ""
      ],
      "metadata": {
        "id": "KXKWb9ROOMd3"
      }
    },
    {
      "cell_type": "code",
      "source": [
        "from pyspark.sql import SparkSession\n",
        "from pyspark.sql.window import *\n",
        "from pyspark.sql.types import *\n",
        "from pyspark import SparkConf\n",
        "import pyspark.sql.functions as F \n",
        "import pyspark.sql.window as w"
      ],
      "metadata": {
        "id": "HRIFlGX2XizA"
      },
      "execution_count": 8,
      "outputs": []
    },
    {
      "cell_type": "markdown",
      "source": [
        "# Indicadores regulamentares qualidade\n",
        "# 5G"
      ],
      "metadata": {
        "id": "Y8WvVL18xtyl"
      }
    },
    {
      "cell_type": "code",
      "source": [
        "df = pd.read_csv('/content/drive/MyDrive/arquivos/indicadores_regulamentares_qualidade.csv',sep=\";\")"
      ],
      "metadata": {
        "id": "f7u8ytClUPgy"
      },
      "execution_count": null,
      "outputs": []
    },
    {
      "cell_type": "code",
      "source": [
        "df5g = pd.read_csv('/content/drive/MyDrive/arquivos/BASE_5G.csv',sep=\";\")"
      ],
      "metadata": {
        "id": "CT9f-6eXjHhY"
      },
      "execution_count": null,
      "outputs": []
    },
    {
      "cell_type": "code",
      "source": [
        "pd.set_option('display.max_columns',24)"
      ],
      "metadata": {
        "id": "xSLFMasaWEYJ"
      },
      "execution_count": null,
      "outputs": []
    },
    {
      "cell_type": "code",
      "source": [
        "df.head(2)"
      ],
      "metadata": {
        "id": "uVTKve_PUPkN"
      },
      "execution_count": null,
      "outputs": []
    },
    {
      "cell_type": "code",
      "source": [
        "pd.unique(df[\"Área de Cálculo do Indicador\"])"
      ],
      "metadata": {
        "id": "Y2FK6phpUPoR"
      },
      "execution_count": null,
      "outputs": []
    },
    {
      "cell_type": "code",
      "source": [
        "df.count()"
      ],
      "metadata": {
        "colab": {
          "base_uri": "https://localhost:8080/"
        },
        "id": "5wVgNqrSUPsS",
        "outputId": "6e6f76c6-08b2-40a0-dc89-d02c7207a060"
      },
      "execution_count": null,
      "outputs": [
        {
          "output_type": "execute_result",
          "data": {
            "text/plain": [
              "Serviço                         966680\n",
              "Sigla do Serviço                966680\n",
              "Tipo de Outorga                 966680\n",
              "Empresa                         966680\n",
              "Razão Social                    966680\n",
              "CNPJ                            966680\n",
              "UF                              966680\n",
              "Área de Cálculo do Indicador    966680\n",
              "Indicador                       966680\n",
              "Período de Coleta               966680\n",
              "Meta do Indicador               966680\n",
              "Mês/Ano                         966680\n",
              "Ano                             966680\n",
              "Grupo do Indicador              966680\n",
              "Resultados                      966680\n",
              "Descumpriu                      966680\n",
              "Cumpriu                         966680\n",
              "NO                              966680\n",
              "NI                              966680\n",
              "Total                           966680\n",
              "Normativo                       966680\n",
              "dtype: int64"
            ]
          },
          "metadata": {},
          "execution_count": 16
        }
      ]
    },
    {
      "cell_type": "code",
      "source": [
        "spark = (SparkSession.builder\n",
        "                      .master('local')\n",
        "                      .appName('ativSolo')\n",
        "                      .config('spark.ui.port','4050')\n",
        "                      .config('spark.jars','https://storage.googleapis.com/hadoop-lib/gcs/gcs-connector-hadoop2-latest.jar')\n",
        "                      .getOrCreate()\n",
        "                      )"
      ],
      "metadata": {
        "id": "wQMkk9ziUPv5"
      },
      "execution_count": 14,
      "outputs": []
    },
    {
      "cell_type": "code",
      "source": [
        "df_spark=(spark.read.format('csv')\n",
        "                    .option('delimiter',';')\n",
        "                    .option('header','true')\n",
        "                    .load('/content/drive/MyDrive/arquivos/indicadores_regulamentares_qualidade.csv')\n",
        "    \n",
        ")"
      ],
      "metadata": {
        "id": "iqpeR7IYUPz0"
      },
      "execution_count": null,
      "outputs": []
    },
    {
      "cell_type": "markdown",
      "source": [
        "2017, 2012, 2013, 2014, 2015, 2018, 2016, 2019, 2020"
      ],
      "metadata": {
        "id": "DF7lb2W8ZexC"
      }
    },
    {
      "cell_type": "code",
      "source": [
        "df_spark = df_spark.filter(df_spark.Ano != 2017)"
      ],
      "metadata": {
        "id": "8cUPnu7nUP3n"
      },
      "execution_count": null,
      "outputs": []
    },
    {
      "cell_type": "code",
      "source": [
        "df_spark = df_spark.filter(df_spark.Ano != 2016)"
      ],
      "metadata": {
        "id": "lUOpYQEFZgti"
      },
      "execution_count": null,
      "outputs": []
    },
    {
      "cell_type": "code",
      "source": [
        "df_spark = df_spark.filter(df_spark.Ano != 2015)"
      ],
      "metadata": {
        "id": "4DRGZPeEZk6Z"
      },
      "execution_count": null,
      "outputs": []
    },
    {
      "cell_type": "code",
      "source": [
        "df_spark = df_spark.filter(df_spark.Ano != 2014)"
      ],
      "metadata": {
        "id": "FBWKB8RnZk0p"
      },
      "execution_count": null,
      "outputs": []
    },
    {
      "cell_type": "code",
      "source": [
        "df_spark = df_spark.filter(df_spark.Ano != 2013)"
      ],
      "metadata": {
        "id": "MGp9hMQFZksJ"
      },
      "execution_count": null,
      "outputs": []
    },
    {
      "cell_type": "code",
      "source": [
        "df_spark = df_spark.filter(df_spark.Ano != 2012)"
      ],
      "metadata": {
        "id": "qrML-gAkZvCB"
      },
      "execution_count": null,
      "outputs": []
    },
    {
      "cell_type": "code",
      "source": [
        "df_spark.filter(F.col('UF')=='-').show()"
      ],
      "metadata": {
        "id": "47vSY_3eRa-K"
      },
      "execution_count": null,
      "outputs": []
    },
    {
      "cell_type": "code",
      "source": [
        "df_spark.count()"
      ],
      "metadata": {
        "id": "HL0SFU5qSaNO"
      },
      "execution_count": null,
      "outputs": []
    },
    {
      "cell_type": "code",
      "source": [
        "df_spark.show(2)"
      ],
      "metadata": {
        "colab": {
          "base_uri": "https://localhost:8080/"
        },
        "id": "QThhoU-7X-JX",
        "outputId": "0b8e7379-1990-4a62-ae46-5c0a70295c46"
      },
      "execution_count": null,
      "outputs": [
        {
          "output_type": "stream",
          "name": "stdout",
          "text": [
            "+----------------+----------------+---------------+-------+--------------------+--------------+---+----------------------------+---------+-----------------+--------------------+-------+----+------------------+----------+----------+-------+---+---+-----+---------+\n",
            "|         Serviço|Sigla do Serviço|Tipo de Outorga|Empresa|        Razão Social|          CNPJ| UF|Área de Cálculo do Indicador|Indicador|Período de Coleta|   Meta do Indicador|Mês/Ano| Ano|Grupo do Indicador|Resultados|Descumpriu|Cumpriu| NO| NI|Total|Normativo|\n",
            "+----------------+----------------+---------------+-------+--------------------+--------------+---+----------------------------+---------+-----------------+--------------------+-------+----+------------------+----------+----------+-------+---+---+-----+---------+\n",
            "|Banda Larga Fixa|             SCM|    Autorização|    SKY|SKY SERVICOS DE B...|00497373000110| PB|               Área da UF PB|     SCM7|              PMT|80% (até out13) 9...|      5|2018|              Rede|    98,01%|         0|      1|  0|  0|    1|RGQ - SCM|\n",
            "|Banda Larga Fixa|             SCM|    Autorização|    SKY|SKY SERVICOS DE B...|00497373000110| PI|               Área da UF PI|     SCM7|              PMT|80% (até out13) 9...|      5|2018|              Rede|    92,93%|         1|      0|  0|  0|    1|RGQ - SCM|\n",
            "+----------------+----------------+---------------+-------+--------------------+--------------+---+----------------------------+---------+-----------------+--------------------+-------+----+------------------+----------+----------+-------+---+---+-----+---------+\n",
            "only showing top 2 rows\n",
            "\n"
          ]
        }
      ]
    },
    {
      "cell_type": "code",
      "source": [
        "df_pd=df_spark.toPandas()"
      ],
      "metadata": {
        "id": "D9f5CsYbX-GB"
      },
      "execution_count": null,
      "outputs": []
    },
    {
      "cell_type": "code",
      "source": [
        "df_pd.head(1)"
      ],
      "metadata": {
        "colab": {
          "base_uri": "https://localhost:8080/"
        },
        "id": "6wuLT0ZtX-CN",
        "outputId": "f3f78eb0-a1e6-4bb4-ae9b-42117c7e90dc"
      },
      "execution_count": null,
      "outputs": [
        {
          "output_type": "execute_result",
          "data": {
            "text/plain": [
              "            Serviço Sigla do Serviço Tipo de Outorga Empresa  \\\n",
              "0  Banda Larga Fixa              SCM     Autorização     SKY   \n",
              "\n",
              "                        Razão Social            CNPJ  UF  \\\n",
              "0  SKY SERVICOS DE BANDA LARGA LTDA.  00497373000110  PB   \n",
              "\n",
              "  Área de Cálculo do Indicador Indicador Período de Coleta  \\\n",
              "0                Área da UF PB      SCM7               PMT   \n",
              "\n",
              "                                   Meta do Indicador Mês/Ano   Ano  \\\n",
              "0  80% (até out13) 90% (até out14) 95% (a partir ...       5  2018   \n",
              "\n",
              "  Grupo do Indicador Resultados Descumpriu Cumpriu NO NI Total  Normativo  \n",
              "0               Rede     98,01%          0       1  0  0     1  RGQ - SCM  "
            ],
            "text/html": [
              "\n",
              "  <div id=\"df-89d3cbe3-7418-4a02-a5c2-397120e18734\">\n",
              "    <div class=\"colab-df-container\">\n",
              "      <div>\n",
              "<style scoped>\n",
              "    .dataframe tbody tr th:only-of-type {\n",
              "        vertical-align: middle;\n",
              "    }\n",
              "\n",
              "    .dataframe tbody tr th {\n",
              "        vertical-align: top;\n",
              "    }\n",
              "\n",
              "    .dataframe thead th {\n",
              "        text-align: right;\n",
              "    }\n",
              "</style>\n",
              "<table border=\"1\" class=\"dataframe\">\n",
              "  <thead>\n",
              "    <tr style=\"text-align: right;\">\n",
              "      <th></th>\n",
              "      <th>Serviço</th>\n",
              "      <th>Sigla do Serviço</th>\n",
              "      <th>Tipo de Outorga</th>\n",
              "      <th>Empresa</th>\n",
              "      <th>Razão Social</th>\n",
              "      <th>CNPJ</th>\n",
              "      <th>UF</th>\n",
              "      <th>Área de Cálculo do Indicador</th>\n",
              "      <th>Indicador</th>\n",
              "      <th>Período de Coleta</th>\n",
              "      <th>Meta do Indicador</th>\n",
              "      <th>Mês/Ano</th>\n",
              "      <th>Ano</th>\n",
              "      <th>Grupo do Indicador</th>\n",
              "      <th>Resultados</th>\n",
              "      <th>Descumpriu</th>\n",
              "      <th>Cumpriu</th>\n",
              "      <th>NO</th>\n",
              "      <th>NI</th>\n",
              "      <th>Total</th>\n",
              "      <th>Normativo</th>\n",
              "    </tr>\n",
              "  </thead>\n",
              "  <tbody>\n",
              "    <tr>\n",
              "      <th>0</th>\n",
              "      <td>Banda Larga Fixa</td>\n",
              "      <td>SCM</td>\n",
              "      <td>Autorização</td>\n",
              "      <td>SKY</td>\n",
              "      <td>SKY SERVICOS DE BANDA LARGA LTDA.</td>\n",
              "      <td>00497373000110</td>\n",
              "      <td>PB</td>\n",
              "      <td>Área da UF PB</td>\n",
              "      <td>SCM7</td>\n",
              "      <td>PMT</td>\n",
              "      <td>80% (até out13) 90% (até out14) 95% (a partir ...</td>\n",
              "      <td>5</td>\n",
              "      <td>2018</td>\n",
              "      <td>Rede</td>\n",
              "      <td>98,01%</td>\n",
              "      <td>0</td>\n",
              "      <td>1</td>\n",
              "      <td>0</td>\n",
              "      <td>0</td>\n",
              "      <td>1</td>\n",
              "      <td>RGQ - SCM</td>\n",
              "    </tr>\n",
              "  </tbody>\n",
              "</table>\n",
              "</div>\n",
              "      <button class=\"colab-df-convert\" onclick=\"convertToInteractive('df-89d3cbe3-7418-4a02-a5c2-397120e18734')\"\n",
              "              title=\"Convert this dataframe to an interactive table.\"\n",
              "              style=\"display:none;\">\n",
              "        \n",
              "  <svg xmlns=\"http://www.w3.org/2000/svg\" height=\"24px\"viewBox=\"0 0 24 24\"\n",
              "       width=\"24px\">\n",
              "    <path d=\"M0 0h24v24H0V0z\" fill=\"none\"/>\n",
              "    <path d=\"M18.56 5.44l.94 2.06.94-2.06 2.06-.94-2.06-.94-.94-2.06-.94 2.06-2.06.94zm-11 1L8.5 8.5l.94-2.06 2.06-.94-2.06-.94L8.5 2.5l-.94 2.06-2.06.94zm10 10l.94 2.06.94-2.06 2.06-.94-2.06-.94-.94-2.06-.94 2.06-2.06.94z\"/><path d=\"M17.41 7.96l-1.37-1.37c-.4-.4-.92-.59-1.43-.59-.52 0-1.04.2-1.43.59L10.3 9.45l-7.72 7.72c-.78.78-.78 2.05 0 2.83L4 21.41c.39.39.9.59 1.41.59.51 0 1.02-.2 1.41-.59l7.78-7.78 2.81-2.81c.8-.78.8-2.07 0-2.86zM5.41 20L4 18.59l7.72-7.72 1.47 1.35L5.41 20z\"/>\n",
              "  </svg>\n",
              "      </button>\n",
              "      \n",
              "  <style>\n",
              "    .colab-df-container {\n",
              "      display:flex;\n",
              "      flex-wrap:wrap;\n",
              "      gap: 12px;\n",
              "    }\n",
              "\n",
              "    .colab-df-convert {\n",
              "      background-color: #E8F0FE;\n",
              "      border: none;\n",
              "      border-radius: 50%;\n",
              "      cursor: pointer;\n",
              "      display: none;\n",
              "      fill: #1967D2;\n",
              "      height: 32px;\n",
              "      padding: 0 0 0 0;\n",
              "      width: 32px;\n",
              "    }\n",
              "\n",
              "    .colab-df-convert:hover {\n",
              "      background-color: #E2EBFA;\n",
              "      box-shadow: 0px 1px 2px rgba(60, 64, 67, 0.3), 0px 1px 3px 1px rgba(60, 64, 67, 0.15);\n",
              "      fill: #174EA6;\n",
              "    }\n",
              "\n",
              "    [theme=dark] .colab-df-convert {\n",
              "      background-color: #3B4455;\n",
              "      fill: #D2E3FC;\n",
              "    }\n",
              "\n",
              "    [theme=dark] .colab-df-convert:hover {\n",
              "      background-color: #434B5C;\n",
              "      box-shadow: 0px 1px 3px 1px rgba(0, 0, 0, 0.15);\n",
              "      filter: drop-shadow(0px 1px 2px rgba(0, 0, 0, 0.3));\n",
              "      fill: #FFFFFF;\n",
              "    }\n",
              "  </style>\n",
              "\n",
              "      <script>\n",
              "        const buttonEl =\n",
              "          document.querySelector('#df-89d3cbe3-7418-4a02-a5c2-397120e18734 button.colab-df-convert');\n",
              "        buttonEl.style.display =\n",
              "          google.colab.kernel.accessAllowed ? 'block' : 'none';\n",
              "\n",
              "        async function convertToInteractive(key) {\n",
              "          const element = document.querySelector('#df-89d3cbe3-7418-4a02-a5c2-397120e18734');\n",
              "          const dataTable =\n",
              "            await google.colab.kernel.invokeFunction('convertToInteractive',\n",
              "                                                     [key], {});\n",
              "          if (!dataTable) return;\n",
              "\n",
              "          const docLinkHtml = 'Like what you see? Visit the ' +\n",
              "            '<a target=\"_blank\" href=https://colab.research.google.com/notebooks/data_table.ipynb>data table notebook</a>'\n",
              "            + ' to learn more about interactive tables.';\n",
              "          element.innerHTML = '';\n",
              "          dataTable['output_type'] = 'display_data';\n",
              "          await google.colab.output.renderOutput(dataTable, element);\n",
              "          const docLink = document.createElement('div');\n",
              "          docLink.innerHTML = docLinkHtml;\n",
              "          element.appendChild(docLink);\n",
              "        }\n",
              "      </script>\n",
              "    </div>\n",
              "  </div>\n",
              "  "
            ]
          },
          "metadata": {},
          "execution_count": 109
        }
      ]
    },
    {
      "cell_type": "markdown",
      "source": [
        "Drop \n",
        "* cnpj\n",
        "* Área de Cálculo do Indicador\n",
        "* "
      ],
      "metadata": {
        "id": "ATpse_b6pBJg"
      }
    },
    {
      "cell_type": "code",
      "source": [
        "df_pd.groupby(['Razão Social','CNPJ']).count()"
      ],
      "metadata": {
        "id": "AuY6hGeaP0hc"
      },
      "execution_count": null,
      "outputs": []
    },
    {
      "cell_type": "code",
      "source": [
        "pd.unique(df_pd[\"Grupo do Indicador\"])"
      ],
      "metadata": {
        "id": "RfTkqI6yX9-e"
      },
      "execution_count": null,
      "outputs": []
    },
    {
      "cell_type": "code",
      "source": [
        "df_pd.to_csv(\"aquivo.csv\")"
      ],
      "metadata": {
        "id": "XVWGSim3b2sc"
      },
      "execution_count": null,
      "outputs": []
    },
    {
      "cell_type": "markdown",
      "source": [
        "# Velocidade Contratada "
      ],
      "metadata": {
        "id": "rHZ5Pf5u4iXk"
      }
    },
    {
      "cell_type": "code",
      "source": [
        "dfvelocidade = pd.read_csv('/content/drive/MyDrive/arquivos/Velocidade_Contratada_SCM.csv',sep=\";\")"
      ],
      "metadata": {
        "id": "HNSoySpQ3IAM"
      },
      "execution_count": 10,
      "outputs": []
    },
    {
      "cell_type": "code",
      "source": [
        "pd.set_option('display.max_columns',34)"
      ],
      "metadata": {
        "id": "DTXNwu9D3H8V"
      },
      "execution_count": 11,
      "outputs": []
    },
    {
      "cell_type": "code",
      "source": [
        "pd.unique(dfvelocidade['razao_social'])"
      ],
      "metadata": {
        "id": "IH1FY6sVyJSs"
      },
      "execution_count": null,
      "outputs": []
    },
    {
      "cell_type": "markdown",
      "source": [
        "**Unique**\n",
        "* Ano == [2020., 2019., 2018., 2017.,   nan]\n",
        "* Mês == ([12., 11., 10.,  9.,  8.,  7.,  6.,  5.,  4.,  3.,  2.,  1., nan]\n",
        "* Razão social == tem nan\n",
        "* CNPJ == tem nan \n",
        "* velocidade contratada == tem ...\n",
        "* uf == tem nan \n",
        "* municipio == tem nam e ...\n",
        "* tipo == ['INTERNET', 'NÃO INTERNET', nan]\n",
        "* municipio_uf == tem nan e ..."
      ],
      "metadata": {
        "id": "Vu2pqstvyYqk"
      }
    },
    {
      "cell_type": "code",
      "source": [
        "dfvelocidade[dfvelocidade.isnull().any(axis=1)]\n"
      ],
      "metadata": {
        "colab": {
          "base_uri": "https://localhost:8080/",
          "height": 661
        },
        "id": "TNH6Ta_XRPeb",
        "outputId": "b6271d95-4b9c-4ad2-fd89-3873b31141e2"
      },
      "execution_count": 27,
      "outputs": [
        {
          "output_type": "execute_result",
          "data": {
            "text/plain": [
              "            Ano   Mês                            razao_social  \\\n",
              "33313    2020.0  12.0                           OI MOVEL S.A.   \n",
              "33325    2020.0  12.0                           OI MOVEL S.A.   \n",
              "35601    2020.0  12.0                           OI MOVEL S.A.   \n",
              "105980   2020.0  12.0          Sercomtel S.A. Telcomunicações   \n",
              "105981   2020.0  12.0          Sercomtel S.A. Telcomunicações   \n",
              "...         ...   ...                                     ...   \n",
              "2358336  2019.0   5.0          Sercomtel S.A. Telcomunicações   \n",
              "2479290  2019.0   4.0          Sercomtel S.A. Telcomunicações   \n",
              "3429752  2018.0   8.0  cabo servicos de telecomunicacoes ltda   \n",
              "5285332  2017.0   5.0            Sercomtel S.A. Participações   \n",
              "5789371     NaN   NaN                                     NaN   \n",
              "\n",
              "                       cnpj velocidade_contratada_mbps   uf       municipio  \\\n",
              "33313    05.423.963/0001-11                        NaN   MA        SAO LUIS   \n",
              "33325    05.423.963/0001-11                        NaN   MG  BELO HORIZONTE   \n",
              "35601    05.423.963/0001-11                        NaN   RO     PORTO VELHO   \n",
              "105980   01.371.416/0001-89                      0,128   PR        Tamarana   \n",
              "105981   01.371.416/0001-89                      0,256   PR        Tamarana   \n",
              "...                     ...                        ...  ...             ...   \n",
              "2358336  01.371.416/0001-89                        100   PR        Tamarana   \n",
              "2479290  01.371.416/0001-89                        400   PR        Londrina   \n",
              "3429752  02.952.192/0001-61                        200   RN      PARNAMIRIM   \n",
              "5285332  04.459.311/0001-74                      0,128   PR         IBIPORÃ   \n",
              "5789371                 NaN                        NaN  NaN             NaN   \n",
              "\n",
              "         codigo_ibge  acessos          tipo         municipio_uf  \n",
              "33313      2111300.0      1.0      INTERNET        São Luís - MA  \n",
              "33325      3106200.0      1.0      INTERNET  Belo Horizonte - MG  \n",
              "35601      1100205.0      3.0      INTERNET     Porto Velho - RO  \n",
              "105980     4126678.0      NaN  NÃO INTERNET        Tamarana - PR  \n",
              "105981     4126678.0      NaN  NÃO INTERNET        Tamarana - PR  \n",
              "...              ...      ...           ...                  ...  \n",
              "2358336    4126678.0      NaN  NÃO INTERNET        Tamarana - PR  \n",
              "2479290    4113700.0      NaN  NÃO INTERNET        Londrina - PR  \n",
              "3429752    2403251.0      NaN      INTERNET      Parnamirim - RN  \n",
              "5285332    4109807.0      NaN  NÃO INTERNET         Ibiporã - PR  \n",
              "5789371          NaN      NaN           NaN                  NaN  \n",
              "\n",
              "[350 rows x 11 columns]"
            ],
            "text/html": [
              "\n",
              "  <div id=\"df-6ddc20ba-e254-4f47-aef1-d14fb8ad6dc3\">\n",
              "    <div class=\"colab-df-container\">\n",
              "      <div>\n",
              "<style scoped>\n",
              "    .dataframe tbody tr th:only-of-type {\n",
              "        vertical-align: middle;\n",
              "    }\n",
              "\n",
              "    .dataframe tbody tr th {\n",
              "        vertical-align: top;\n",
              "    }\n",
              "\n",
              "    .dataframe thead th {\n",
              "        text-align: right;\n",
              "    }\n",
              "</style>\n",
              "<table border=\"1\" class=\"dataframe\">\n",
              "  <thead>\n",
              "    <tr style=\"text-align: right;\">\n",
              "      <th></th>\n",
              "      <th>Ano</th>\n",
              "      <th>Mês</th>\n",
              "      <th>razao_social</th>\n",
              "      <th>cnpj</th>\n",
              "      <th>velocidade_contratada_mbps</th>\n",
              "      <th>uf</th>\n",
              "      <th>municipio</th>\n",
              "      <th>codigo_ibge</th>\n",
              "      <th>acessos</th>\n",
              "      <th>tipo</th>\n",
              "      <th>municipio_uf</th>\n",
              "    </tr>\n",
              "  </thead>\n",
              "  <tbody>\n",
              "    <tr>\n",
              "      <th>33313</th>\n",
              "      <td>2020.0</td>\n",
              "      <td>12.0</td>\n",
              "      <td>OI MOVEL S.A.</td>\n",
              "      <td>05.423.963/0001-11</td>\n",
              "      <td>NaN</td>\n",
              "      <td>MA</td>\n",
              "      <td>SAO LUIS</td>\n",
              "      <td>2111300.0</td>\n",
              "      <td>1.0</td>\n",
              "      <td>INTERNET</td>\n",
              "      <td>São Luís - MA</td>\n",
              "    </tr>\n",
              "    <tr>\n",
              "      <th>33325</th>\n",
              "      <td>2020.0</td>\n",
              "      <td>12.0</td>\n",
              "      <td>OI MOVEL S.A.</td>\n",
              "      <td>05.423.963/0001-11</td>\n",
              "      <td>NaN</td>\n",
              "      <td>MG</td>\n",
              "      <td>BELO HORIZONTE</td>\n",
              "      <td>3106200.0</td>\n",
              "      <td>1.0</td>\n",
              "      <td>INTERNET</td>\n",
              "      <td>Belo Horizonte - MG</td>\n",
              "    </tr>\n",
              "    <tr>\n",
              "      <th>35601</th>\n",
              "      <td>2020.0</td>\n",
              "      <td>12.0</td>\n",
              "      <td>OI MOVEL S.A.</td>\n",
              "      <td>05.423.963/0001-11</td>\n",
              "      <td>NaN</td>\n",
              "      <td>RO</td>\n",
              "      <td>PORTO VELHO</td>\n",
              "      <td>1100205.0</td>\n",
              "      <td>3.0</td>\n",
              "      <td>INTERNET</td>\n",
              "      <td>Porto Velho - RO</td>\n",
              "    </tr>\n",
              "    <tr>\n",
              "      <th>105980</th>\n",
              "      <td>2020.0</td>\n",
              "      <td>12.0</td>\n",
              "      <td>Sercomtel S.A. Telcomunicações</td>\n",
              "      <td>01.371.416/0001-89</td>\n",
              "      <td>0,128</td>\n",
              "      <td>PR</td>\n",
              "      <td>Tamarana</td>\n",
              "      <td>4126678.0</td>\n",
              "      <td>NaN</td>\n",
              "      <td>NÃO INTERNET</td>\n",
              "      <td>Tamarana - PR</td>\n",
              "    </tr>\n",
              "    <tr>\n",
              "      <th>105981</th>\n",
              "      <td>2020.0</td>\n",
              "      <td>12.0</td>\n",
              "      <td>Sercomtel S.A. Telcomunicações</td>\n",
              "      <td>01.371.416/0001-89</td>\n",
              "      <td>0,256</td>\n",
              "      <td>PR</td>\n",
              "      <td>Tamarana</td>\n",
              "      <td>4126678.0</td>\n",
              "      <td>NaN</td>\n",
              "      <td>NÃO INTERNET</td>\n",
              "      <td>Tamarana - PR</td>\n",
              "    </tr>\n",
              "    <tr>\n",
              "      <th>...</th>\n",
              "      <td>...</td>\n",
              "      <td>...</td>\n",
              "      <td>...</td>\n",
              "      <td>...</td>\n",
              "      <td>...</td>\n",
              "      <td>...</td>\n",
              "      <td>...</td>\n",
              "      <td>...</td>\n",
              "      <td>...</td>\n",
              "      <td>...</td>\n",
              "      <td>...</td>\n",
              "    </tr>\n",
              "    <tr>\n",
              "      <th>2358336</th>\n",
              "      <td>2019.0</td>\n",
              "      <td>5.0</td>\n",
              "      <td>Sercomtel S.A. Telcomunicações</td>\n",
              "      <td>01.371.416/0001-89</td>\n",
              "      <td>100</td>\n",
              "      <td>PR</td>\n",
              "      <td>Tamarana</td>\n",
              "      <td>4126678.0</td>\n",
              "      <td>NaN</td>\n",
              "      <td>NÃO INTERNET</td>\n",
              "      <td>Tamarana - PR</td>\n",
              "    </tr>\n",
              "    <tr>\n",
              "      <th>2479290</th>\n",
              "      <td>2019.0</td>\n",
              "      <td>4.0</td>\n",
              "      <td>Sercomtel S.A. Telcomunicações</td>\n",
              "      <td>01.371.416/0001-89</td>\n",
              "      <td>400</td>\n",
              "      <td>PR</td>\n",
              "      <td>Londrina</td>\n",
              "      <td>4113700.0</td>\n",
              "      <td>NaN</td>\n",
              "      <td>NÃO INTERNET</td>\n",
              "      <td>Londrina - PR</td>\n",
              "    </tr>\n",
              "    <tr>\n",
              "      <th>3429752</th>\n",
              "      <td>2018.0</td>\n",
              "      <td>8.0</td>\n",
              "      <td>cabo servicos de telecomunicacoes ltda</td>\n",
              "      <td>02.952.192/0001-61</td>\n",
              "      <td>200</td>\n",
              "      <td>RN</td>\n",
              "      <td>PARNAMIRIM</td>\n",
              "      <td>2403251.0</td>\n",
              "      <td>NaN</td>\n",
              "      <td>INTERNET</td>\n",
              "      <td>Parnamirim - RN</td>\n",
              "    </tr>\n",
              "    <tr>\n",
              "      <th>5285332</th>\n",
              "      <td>2017.0</td>\n",
              "      <td>5.0</td>\n",
              "      <td>Sercomtel S.A. Participações</td>\n",
              "      <td>04.459.311/0001-74</td>\n",
              "      <td>0,128</td>\n",
              "      <td>PR</td>\n",
              "      <td>IBIPORÃ</td>\n",
              "      <td>4109807.0</td>\n",
              "      <td>NaN</td>\n",
              "      <td>NÃO INTERNET</td>\n",
              "      <td>Ibiporã - PR</td>\n",
              "    </tr>\n",
              "    <tr>\n",
              "      <th>5789371</th>\n",
              "      <td>NaN</td>\n",
              "      <td>NaN</td>\n",
              "      <td>NaN</td>\n",
              "      <td>NaN</td>\n",
              "      <td>NaN</td>\n",
              "      <td>NaN</td>\n",
              "      <td>NaN</td>\n",
              "      <td>NaN</td>\n",
              "      <td>NaN</td>\n",
              "      <td>NaN</td>\n",
              "      <td>NaN</td>\n",
              "    </tr>\n",
              "  </tbody>\n",
              "</table>\n",
              "<p>350 rows × 11 columns</p>\n",
              "</div>\n",
              "      <button class=\"colab-df-convert\" onclick=\"convertToInteractive('df-6ddc20ba-e254-4f47-aef1-d14fb8ad6dc3')\"\n",
              "              title=\"Convert this dataframe to an interactive table.\"\n",
              "              style=\"display:none;\">\n",
              "        \n",
              "  <svg xmlns=\"http://www.w3.org/2000/svg\" height=\"24px\"viewBox=\"0 0 24 24\"\n",
              "       width=\"24px\">\n",
              "    <path d=\"M0 0h24v24H0V0z\" fill=\"none\"/>\n",
              "    <path d=\"M18.56 5.44l.94 2.06.94-2.06 2.06-.94-2.06-.94-.94-2.06-.94 2.06-2.06.94zm-11 1L8.5 8.5l.94-2.06 2.06-.94-2.06-.94L8.5 2.5l-.94 2.06-2.06.94zm10 10l.94 2.06.94-2.06 2.06-.94-2.06-.94-.94-2.06-.94 2.06-2.06.94z\"/><path d=\"M17.41 7.96l-1.37-1.37c-.4-.4-.92-.59-1.43-.59-.52 0-1.04.2-1.43.59L10.3 9.45l-7.72 7.72c-.78.78-.78 2.05 0 2.83L4 21.41c.39.39.9.59 1.41.59.51 0 1.02-.2 1.41-.59l7.78-7.78 2.81-2.81c.8-.78.8-2.07 0-2.86zM5.41 20L4 18.59l7.72-7.72 1.47 1.35L5.41 20z\"/>\n",
              "  </svg>\n",
              "      </button>\n",
              "      \n",
              "  <style>\n",
              "    .colab-df-container {\n",
              "      display:flex;\n",
              "      flex-wrap:wrap;\n",
              "      gap: 12px;\n",
              "    }\n",
              "\n",
              "    .colab-df-convert {\n",
              "      background-color: #E8F0FE;\n",
              "      border: none;\n",
              "      border-radius: 50%;\n",
              "      cursor: pointer;\n",
              "      display: none;\n",
              "      fill: #1967D2;\n",
              "      height: 32px;\n",
              "      padding: 0 0 0 0;\n",
              "      width: 32px;\n",
              "    }\n",
              "\n",
              "    .colab-df-convert:hover {\n",
              "      background-color: #E2EBFA;\n",
              "      box-shadow: 0px 1px 2px rgba(60, 64, 67, 0.3), 0px 1px 3px 1px rgba(60, 64, 67, 0.15);\n",
              "      fill: #174EA6;\n",
              "    }\n",
              "\n",
              "    [theme=dark] .colab-df-convert {\n",
              "      background-color: #3B4455;\n",
              "      fill: #D2E3FC;\n",
              "    }\n",
              "\n",
              "    [theme=dark] .colab-df-convert:hover {\n",
              "      background-color: #434B5C;\n",
              "      box-shadow: 0px 1px 3px 1px rgba(0, 0, 0, 0.15);\n",
              "      filter: drop-shadow(0px 1px 2px rgba(0, 0, 0, 0.3));\n",
              "      fill: #FFFFFF;\n",
              "    }\n",
              "  </style>\n",
              "\n",
              "      <script>\n",
              "        const buttonEl =\n",
              "          document.querySelector('#df-6ddc20ba-e254-4f47-aef1-d14fb8ad6dc3 button.colab-df-convert');\n",
              "        buttonEl.style.display =\n",
              "          google.colab.kernel.accessAllowed ? 'block' : 'none';\n",
              "\n",
              "        async function convertToInteractive(key) {\n",
              "          const element = document.querySelector('#df-6ddc20ba-e254-4f47-aef1-d14fb8ad6dc3');\n",
              "          const dataTable =\n",
              "            await google.colab.kernel.invokeFunction('convertToInteractive',\n",
              "                                                     [key], {});\n",
              "          if (!dataTable) return;\n",
              "\n",
              "          const docLinkHtml = 'Like what you see? Visit the ' +\n",
              "            '<a target=\"_blank\" href=https://colab.research.google.com/notebooks/data_table.ipynb>data table notebook</a>'\n",
              "            + ' to learn more about interactive tables.';\n",
              "          element.innerHTML = '';\n",
              "          dataTable['output_type'] = 'display_data';\n",
              "          await google.colab.output.renderOutput(dataTable, element);\n",
              "          const docLink = document.createElement('div');\n",
              "          docLink.innerHTML = docLinkHtml;\n",
              "          element.appendChild(docLink);\n",
              "        }\n",
              "      </script>\n",
              "    </div>\n",
              "  </div>\n",
              "  "
            ]
          },
          "metadata": {},
          "execution_count": 27
        }
      ]
    },
    {
      "cell_type": "code",
      "source": [
        "dfvelocidade.head(2)"
      ],
      "metadata": {
        "id": "1vriNYdn3H5O"
      },
      "execution_count": null,
      "outputs": []
    },
    {
      "cell_type": "markdown",
      "source": [
        "## Spark "
      ],
      "metadata": {
        "id": "7QKRldDdRLD8"
      }
    },
    {
      "cell_type": "code",
      "source": [
        "dfbanda_spark=(spark.read.format('csv')\n",
        "                    .option('delimiter',';')\n",
        "                    .option('header','true')\n",
        "                    .load('/content/drive/MyDrive/arquivos/Velocidade_Contratada_SCM.csv')\n",
        "    \n",
        ")"
      ],
      "metadata": {
        "id": "PC20dbxDSC-R"
      },
      "execution_count": 15,
      "outputs": []
    },
    {
      "cell_type": "code",
      "source": [
        "dfbanda_spark.filter(F.col('acessos')=='NaN').show()"
      ],
      "metadata": {
        "colab": {
          "base_uri": "https://localhost:8080/"
        },
        "id": "RdEwe_sNSC8G",
        "outputId": "e0de7d73-5bfb-45a9-ff6d-8b051c6addcc"
      },
      "execution_count": 26,
      "outputs": [
        {
          "output_type": "stream",
          "name": "stdout",
          "text": [
            "+---+---+------------+----+--------------------------+---+---------+-----------+-------+----+------------+\n",
            "|Ano|Mês|razao_social|cnpj|velocidade_contratada_mbps| uf|municipio|codigo_ibge|acessos|tipo|municipio_uf|\n",
            "+---+---+------------+----+--------------------------+---+---------+-----------+-------+----+------------+\n",
            "+---+---+------------+----+--------------------------+---+---------+-----------+-------+----+------------+\n",
            "\n"
          ]
        }
      ]
    },
    {
      "cell_type": "code",
      "source": [
        ""
      ],
      "metadata": {
        "id": "ldRcKmPxSC5H"
      },
      "execution_count": null,
      "outputs": []
    },
    {
      "cell_type": "markdown",
      "source": [
        "# Acessos Banda Larga"
      ],
      "metadata": {
        "id": "4sb-poZB4naD"
      }
    },
    {
      "cell_type": "code",
      "source": [
        "dfbanda = pd.read_csv('/content/drive/MyDrive/arquivos/Acessos_Banda_Larga_Fixa_2021 (3).csv',sep=\";\")"
      ],
      "metadata": {
        "id": "LQ2fGbLE3H2P"
      },
      "execution_count": 59,
      "outputs": []
    },
    {
      "cell_type": "code",
      "source": [
        "pd.set_option('display.max_columns',24)"
      ],
      "metadata": {
        "id": "DN7IK8RB3HzJ"
      },
      "execution_count": 60,
      "outputs": []
    },
    {
      "cell_type": "code",
      "source": [
        "dfbanda.head(1)"
      ],
      "metadata": {
        "colab": {
          "base_uri": "https://localhost:8080/",
          "height": 159
        },
        "id": "vc5zJNH15uiD",
        "outputId": "043a6371-9c70-4247-9b50-7619b38e3f49"
      },
      "execution_count": null,
      "outputs": [
        {
          "output_type": "execute_result",
          "data": {
            "text/plain": [
              "    Ano  Mês   Grupo Econômico Empresa            CNPJ Porte da Prestadora  \\\n",
              "0  2021   10  TELECOM AMERICAS   CLARO  40432544000147        Grande Porte   \n",
              "\n",
              "   UF Município  Código IBGE Município Faixa de Velocidade Tecnologia  \\\n",
              "0  ES   Vitória                3205309            > 34Mbps       FTTH   \n",
              "\n",
              "  Meio de Acesso   Tipo de Pessoa  Acessos  \n",
              "0          Fibra  Pessoa Jurídica        1  "
            ],
            "text/html": [
              "\n",
              "  <div id=\"df-fd5f3633-fa69-4365-ae64-17251e373938\">\n",
              "    <div class=\"colab-df-container\">\n",
              "      <div>\n",
              "<style scoped>\n",
              "    .dataframe tbody tr th:only-of-type {\n",
              "        vertical-align: middle;\n",
              "    }\n",
              "\n",
              "    .dataframe tbody tr th {\n",
              "        vertical-align: top;\n",
              "    }\n",
              "\n",
              "    .dataframe thead th {\n",
              "        text-align: right;\n",
              "    }\n",
              "</style>\n",
              "<table border=\"1\" class=\"dataframe\">\n",
              "  <thead>\n",
              "    <tr style=\"text-align: right;\">\n",
              "      <th></th>\n",
              "      <th>Ano</th>\n",
              "      <th>Mês</th>\n",
              "      <th>Grupo Econômico</th>\n",
              "      <th>Empresa</th>\n",
              "      <th>CNPJ</th>\n",
              "      <th>Porte da Prestadora</th>\n",
              "      <th>UF</th>\n",
              "      <th>Município</th>\n",
              "      <th>Código IBGE Município</th>\n",
              "      <th>Faixa de Velocidade</th>\n",
              "      <th>Tecnologia</th>\n",
              "      <th>Meio de Acesso</th>\n",
              "      <th>Tipo de Pessoa</th>\n",
              "      <th>Acessos</th>\n",
              "    </tr>\n",
              "  </thead>\n",
              "  <tbody>\n",
              "    <tr>\n",
              "      <th>0</th>\n",
              "      <td>2021</td>\n",
              "      <td>10</td>\n",
              "      <td>TELECOM AMERICAS</td>\n",
              "      <td>CLARO</td>\n",
              "      <td>40432544000147</td>\n",
              "      <td>Grande Porte</td>\n",
              "      <td>ES</td>\n",
              "      <td>Vitória</td>\n",
              "      <td>3205309</td>\n",
              "      <td>&gt; 34Mbps</td>\n",
              "      <td>FTTH</td>\n",
              "      <td>Fibra</td>\n",
              "      <td>Pessoa Jurídica</td>\n",
              "      <td>1</td>\n",
              "    </tr>\n",
              "  </tbody>\n",
              "</table>\n",
              "</div>\n",
              "      <button class=\"colab-df-convert\" onclick=\"convertToInteractive('df-fd5f3633-fa69-4365-ae64-17251e373938')\"\n",
              "              title=\"Convert this dataframe to an interactive table.\"\n",
              "              style=\"display:none;\">\n",
              "        \n",
              "  <svg xmlns=\"http://www.w3.org/2000/svg\" height=\"24px\"viewBox=\"0 0 24 24\"\n",
              "       width=\"24px\">\n",
              "    <path d=\"M0 0h24v24H0V0z\" fill=\"none\"/>\n",
              "    <path d=\"M18.56 5.44l.94 2.06.94-2.06 2.06-.94-2.06-.94-.94-2.06-.94 2.06-2.06.94zm-11 1L8.5 8.5l.94-2.06 2.06-.94-2.06-.94L8.5 2.5l-.94 2.06-2.06.94zm10 10l.94 2.06.94-2.06 2.06-.94-2.06-.94-.94-2.06-.94 2.06-2.06.94z\"/><path d=\"M17.41 7.96l-1.37-1.37c-.4-.4-.92-.59-1.43-.59-.52 0-1.04.2-1.43.59L10.3 9.45l-7.72 7.72c-.78.78-.78 2.05 0 2.83L4 21.41c.39.39.9.59 1.41.59.51 0 1.02-.2 1.41-.59l7.78-7.78 2.81-2.81c.8-.78.8-2.07 0-2.86zM5.41 20L4 18.59l7.72-7.72 1.47 1.35L5.41 20z\"/>\n",
              "  </svg>\n",
              "      </button>\n",
              "      \n",
              "  <style>\n",
              "    .colab-df-container {\n",
              "      display:flex;\n",
              "      flex-wrap:wrap;\n",
              "      gap: 12px;\n",
              "    }\n",
              "\n",
              "    .colab-df-convert {\n",
              "      background-color: #E8F0FE;\n",
              "      border: none;\n",
              "      border-radius: 50%;\n",
              "      cursor: pointer;\n",
              "      display: none;\n",
              "      fill: #1967D2;\n",
              "      height: 32px;\n",
              "      padding: 0 0 0 0;\n",
              "      width: 32px;\n",
              "    }\n",
              "\n",
              "    .colab-df-convert:hover {\n",
              "      background-color: #E2EBFA;\n",
              "      box-shadow: 0px 1px 2px rgba(60, 64, 67, 0.3), 0px 1px 3px 1px rgba(60, 64, 67, 0.15);\n",
              "      fill: #174EA6;\n",
              "    }\n",
              "\n",
              "    [theme=dark] .colab-df-convert {\n",
              "      background-color: #3B4455;\n",
              "      fill: #D2E3FC;\n",
              "    }\n",
              "\n",
              "    [theme=dark] .colab-df-convert:hover {\n",
              "      background-color: #434B5C;\n",
              "      box-shadow: 0px 1px 3px 1px rgba(0, 0, 0, 0.15);\n",
              "      filter: drop-shadow(0px 1px 2px rgba(0, 0, 0, 0.3));\n",
              "      fill: #FFFFFF;\n",
              "    }\n",
              "  </style>\n",
              "\n",
              "      <script>\n",
              "        const buttonEl =\n",
              "          document.querySelector('#df-fd5f3633-fa69-4365-ae64-17251e373938 button.colab-df-convert');\n",
              "        buttonEl.style.display =\n",
              "          google.colab.kernel.accessAllowed ? 'block' : 'none';\n",
              "\n",
              "        async function convertToInteractive(key) {\n",
              "          const element = document.querySelector('#df-fd5f3633-fa69-4365-ae64-17251e373938');\n",
              "          const dataTable =\n",
              "            await google.colab.kernel.invokeFunction('convertToInteractive',\n",
              "                                                     [key], {});\n",
              "          if (!dataTable) return;\n",
              "\n",
              "          const docLinkHtml = 'Like what you see? Visit the ' +\n",
              "            '<a target=\"_blank\" href=https://colab.research.google.com/notebooks/data_table.ipynb>data table notebook</a>'\n",
              "            + ' to learn more about interactive tables.';\n",
              "          element.innerHTML = '';\n",
              "          dataTable['output_type'] = 'display_data';\n",
              "          await google.colab.output.renderOutput(dataTable, element);\n",
              "          const docLink = document.createElement('div');\n",
              "          docLink.innerHTML = docLinkHtml;\n",
              "          element.appendChild(docLink);\n",
              "        }\n",
              "      </script>\n",
              "    </div>\n",
              "  </div>\n",
              "  "
            ]
          },
          "metadata": {},
          "execution_count": 143
        }
      ]
    },
    {
      "cell_type": "code",
      "source": [
        "pd.unique(dfbanda['Acessos'])"
      ],
      "metadata": {
        "colab": {
          "base_uri": "https://localhost:8080/"
        },
        "id": "0lnOeQu50YWj",
        "outputId": "ee2417c2-ed1a-48c4-fe48-3dffaf13fb36"
      },
      "execution_count": 69,
      "outputs": [
        {
          "output_type": "execute_result",
          "data": {
            "text/plain": [
              "array([    1,    58,    11, ...,  7242, 15703,  7128])"
            ]
          },
          "metadata": {},
          "execution_count": 69
        }
      ]
    },
    {
      "cell_type": "code",
      "source": [
        "dfbanda.isnull().count()"
      ],
      "metadata": {
        "colab": {
          "base_uri": "https://localhost:8080/"
        },
        "id": "6lEALhV4vBDk",
        "outputId": "b63c5d04-40a0-4b52-8939-aa0867443328"
      },
      "execution_count": 71,
      "outputs": [
        {
          "output_type": "execute_result",
          "data": {
            "text/plain": [
              "Ano                      4767901\n",
              "Mês                      4767901\n",
              "Grupo Econômico          4767901\n",
              "Empresa                  4767901\n",
              "CNPJ                     4767901\n",
              "Porte da Prestadora      4767901\n",
              "UF                       4767901\n",
              "Município                4767901\n",
              "Código IBGE Município    4767901\n",
              "Faixa de Velocidade      4767901\n",
              "Tecnologia               4767901\n",
              "Meio de Acesso           4767901\n",
              "Tipo de Pessoa           4767901\n",
              "Acessos                  4767901\n",
              "dtype: int64"
            ]
          },
          "metadata": {},
          "execution_count": 71
        }
      ]
    },
    {
      "cell_type": "code",
      "source": [
        "dfbanda.info()"
      ],
      "metadata": {
        "colab": {
          "base_uri": "https://localhost:8080/"
        },
        "id": "UkIdwONVs-fU",
        "outputId": "0a1c289b-b2f1-4bee-b067-af63b2e424e4"
      },
      "execution_count": 70,
      "outputs": [
        {
          "output_type": "stream",
          "name": "stdout",
          "text": [
            "<class 'pandas.core.frame.DataFrame'>\n",
            "RangeIndex: 4767901 entries, 0 to 4767900\n",
            "Data columns (total 14 columns):\n",
            " #   Column                 Dtype \n",
            "---  ------                 ----- \n",
            " 0   Ano                    int64 \n",
            " 1   Mês                    int64 \n",
            " 2   Grupo Econômico        object\n",
            " 3   Empresa                object\n",
            " 4   CNPJ                   int64 \n",
            " 5   Porte da Prestadora    object\n",
            " 6   UF                     object\n",
            " 7   Município              object\n",
            " 8   Código IBGE Município  int64 \n",
            " 9   Faixa de Velocidade    object\n",
            " 10  Tecnologia             object\n",
            " 11  Meio de Acesso         object\n",
            " 12  Tipo de Pessoa         object\n",
            " 13  Acessos                int64 \n",
            "dtypes: int64(5), object(9)\n",
            "memory usage: 509.3+ MB\n"
          ]
        }
      ]
    },
    {
      "cell_type": "markdown",
      "source": [
        "**unique**\n",
        "* Ano == 2021 \n",
        "* Mês == [10,  9,  8,  7,  6,  5,  4,  3,  2,  1]\n",
        "* Grupo Econômico == 'TELECOM AMERICAS', 'OUTROS', 'SERCOMTEL/COPEL/HORIZONS','TELECOM ITALIA', 'OI', 'ALGAR (CTBC TELECOM)', 'TELEFÔNICA','CABO', 'BT', 'DATORA', 'SKY/AT&T', 'NOSSATV','PREFEITURA DE LONDRINA/COPEL']\n",
        "* Empresa\t== 'CLARO', 'GGNET TELECOMUNICAÇÕES LTDA EPP', 'UD TECNOLOGIA S.A.',..., 'SATELLITENET & TECNOLOGIA - EIRELI', 'WIID INTERNET LTDA','GTN TELECOM INTERNET LTDA - ME'\n",
        "* CNPJ == tem ...\n",
        "* Porte da Prestadora\t== ['Grande Porte', 'Pequeno Porte']\n",
        "* UF == ['ES', 'SC', 'SP', 'PR', 'RS', 'BA', 'RN', 'GO', 'PI', 'AL', 'DF','PB', 'PE', 'MA', 'RJ', 'MT', 'TO', 'MG', 'SE', 'CE', 'RO', 'PA','RR', 'AM', 'MS', 'AP', 'AC']\n",
        "* Municipio == ['Vitória', 'Fraiburgo', 'São Paulo', ..., 'Passabém','São Patrício', 'Oliveira de Fátima']\n",
        "* ['> 34Mbps', '12Mbps a 34Mbps', '2Mbps a 12Mbps', '512kbps a 2Mbps','0Kbps a 512Kbps']\n",
        "* Tecnologia == ['FTTH', 'ETHERNET', 'Wi-Fi', 'FTTB', 'HDSL', 'FR', 'ADSL1', 'DWDM','ADSL2', 'NR', 'HFC', 'VDSL', 'SDH', 'MMDS', 'FWA', 'WIMAX','Cable Modem', 'PLC', 'GSM', 'LTE', 'TDMA', 'WCDMA', 'OFDMA/TDD','EDGE', 'DTH', 'HSDPA', 'ATM', 'VSAT', 'CDMA IS 95', 'PDH', 'GPRS','Indeterminado', 'HSPA'] \n",
        "* Meio de acesso == ['Fibra', 'Rádio', 'Cabo Metálico', 'Satélite', 'Cabo Coaxial','Indeterminado']\n",
        "* Tipo de pessoa == ['Pessoa Jurídica', 'Pessoa Física', 'Não Informado'] \n",
        "* acessos == [    1,    58,    11, ...,  7242, 15703,  7128] "
      ],
      "metadata": {
        "id": "zA5XNQdX0ZCS"
      }
    },
    {
      "cell_type": "markdown",
      "source": [
        "# Meu municipio cobertura "
      ],
      "metadata": {
        "id": "eSWzaJfP3gS1"
      }
    },
    {
      "cell_type": "code",
      "source": [
        "dfmeucobertura = pd.read_csv('/content/drive/MyDrive/arquivos/Meu_Municipio_Cobertura.csv',sep=\";\")"
      ],
      "metadata": {
        "id": "2HxHeuA73HgD"
      },
      "execution_count": null,
      "outputs": []
    },
    {
      "cell_type": "code",
      "source": [
        "pd.set_option('display.max_columns',24)"
      ],
      "metadata": {
        "id": "7rumRBFm3Hc8"
      },
      "execution_count": null,
      "outputs": []
    },
    {
      "cell_type": "code",
      "source": [
        "dfmeucobertura.head(1)"
      ],
      "metadata": {
        "colab": {
          "base_uri": "https://localhost:8080/",
          "height": 177
        },
        "id": "W4ZSLwQA7IF6",
        "outputId": "6dd37044-68b7-4c48-b8a0-4fb748b22041"
      },
      "execution_count": null,
      "outputs": [
        {
          "output_type": "execute_result",
          "data": {
            "text/plain": [
              "  Operadora Tecnologia Cobertura Moradores Cobertos Domicílios Cobertos  \\\n",
              "0     LIGUE                   2G                  0                   0   \n",
              "\n",
              "  Área km2 Coberta  Moradores Município  Domicílios Município  \\\n",
              "0                0               6885.0                2174.0   \n",
              "\n",
              "  Área Município km2     Ano  Código IBGE           Município  UF Nome UF  \\\n",
              "0    369,86154618853  2021.0      4118709  Paulo Frontin - PR  PR  Paraná   \n",
              "\n",
              "  Região  Código Nacional  \n",
              "0    Sul               42  "
            ],
            "text/html": [
              "\n",
              "  <div id=\"df-47654a0a-6e35-41b2-ada7-9b5ed87e19f9\">\n",
              "    <div class=\"colab-df-container\">\n",
              "      <div>\n",
              "<style scoped>\n",
              "    .dataframe tbody tr th:only-of-type {\n",
              "        vertical-align: middle;\n",
              "    }\n",
              "\n",
              "    .dataframe tbody tr th {\n",
              "        vertical-align: top;\n",
              "    }\n",
              "\n",
              "    .dataframe thead th {\n",
              "        text-align: right;\n",
              "    }\n",
              "</style>\n",
              "<table border=\"1\" class=\"dataframe\">\n",
              "  <thead>\n",
              "    <tr style=\"text-align: right;\">\n",
              "      <th></th>\n",
              "      <th>Operadora</th>\n",
              "      <th>Tecnologia Cobertura</th>\n",
              "      <th>Moradores Cobertos</th>\n",
              "      <th>Domicílios Cobertos</th>\n",
              "      <th>Área km2 Coberta</th>\n",
              "      <th>Moradores Município</th>\n",
              "      <th>Domicílios Município</th>\n",
              "      <th>Área Município km2</th>\n",
              "      <th>Ano</th>\n",
              "      <th>Código IBGE</th>\n",
              "      <th>Município</th>\n",
              "      <th>UF</th>\n",
              "      <th>Nome UF</th>\n",
              "      <th>Região</th>\n",
              "      <th>Código Nacional</th>\n",
              "    </tr>\n",
              "  </thead>\n",
              "  <tbody>\n",
              "    <tr>\n",
              "      <th>0</th>\n",
              "      <td>LIGUE</td>\n",
              "      <td>2G</td>\n",
              "      <td>0</td>\n",
              "      <td>0</td>\n",
              "      <td>0</td>\n",
              "      <td>6885.0</td>\n",
              "      <td>2174.0</td>\n",
              "      <td>369,86154618853</td>\n",
              "      <td>2021.0</td>\n",
              "      <td>4118709</td>\n",
              "      <td>Paulo Frontin - PR</td>\n",
              "      <td>PR</td>\n",
              "      <td>Paraná</td>\n",
              "      <td>Sul</td>\n",
              "      <td>42</td>\n",
              "    </tr>\n",
              "  </tbody>\n",
              "</table>\n",
              "</div>\n",
              "      <button class=\"colab-df-convert\" onclick=\"convertToInteractive('df-47654a0a-6e35-41b2-ada7-9b5ed87e19f9')\"\n",
              "              title=\"Convert this dataframe to an interactive table.\"\n",
              "              style=\"display:none;\">\n",
              "        \n",
              "  <svg xmlns=\"http://www.w3.org/2000/svg\" height=\"24px\"viewBox=\"0 0 24 24\"\n",
              "       width=\"24px\">\n",
              "    <path d=\"M0 0h24v24H0V0z\" fill=\"none\"/>\n",
              "    <path d=\"M18.56 5.44l.94 2.06.94-2.06 2.06-.94-2.06-.94-.94-2.06-.94 2.06-2.06.94zm-11 1L8.5 8.5l.94-2.06 2.06-.94-2.06-.94L8.5 2.5l-.94 2.06-2.06.94zm10 10l.94 2.06.94-2.06 2.06-.94-2.06-.94-.94-2.06-.94 2.06-2.06.94z\"/><path d=\"M17.41 7.96l-1.37-1.37c-.4-.4-.92-.59-1.43-.59-.52 0-1.04.2-1.43.59L10.3 9.45l-7.72 7.72c-.78.78-.78 2.05 0 2.83L4 21.41c.39.39.9.59 1.41.59.51 0 1.02-.2 1.41-.59l7.78-7.78 2.81-2.81c.8-.78.8-2.07 0-2.86zM5.41 20L4 18.59l7.72-7.72 1.47 1.35L5.41 20z\"/>\n",
              "  </svg>\n",
              "      </button>\n",
              "      \n",
              "  <style>\n",
              "    .colab-df-container {\n",
              "      display:flex;\n",
              "      flex-wrap:wrap;\n",
              "      gap: 12px;\n",
              "    }\n",
              "\n",
              "    .colab-df-convert {\n",
              "      background-color: #E8F0FE;\n",
              "      border: none;\n",
              "      border-radius: 50%;\n",
              "      cursor: pointer;\n",
              "      display: none;\n",
              "      fill: #1967D2;\n",
              "      height: 32px;\n",
              "      padding: 0 0 0 0;\n",
              "      width: 32px;\n",
              "    }\n",
              "\n",
              "    .colab-df-convert:hover {\n",
              "      background-color: #E2EBFA;\n",
              "      box-shadow: 0px 1px 2px rgba(60, 64, 67, 0.3), 0px 1px 3px 1px rgba(60, 64, 67, 0.15);\n",
              "      fill: #174EA6;\n",
              "    }\n",
              "\n",
              "    [theme=dark] .colab-df-convert {\n",
              "      background-color: #3B4455;\n",
              "      fill: #D2E3FC;\n",
              "    }\n",
              "\n",
              "    [theme=dark] .colab-df-convert:hover {\n",
              "      background-color: #434B5C;\n",
              "      box-shadow: 0px 1px 3px 1px rgba(0, 0, 0, 0.15);\n",
              "      filter: drop-shadow(0px 1px 2px rgba(0, 0, 0, 0.3));\n",
              "      fill: #FFFFFF;\n",
              "    }\n",
              "  </style>\n",
              "\n",
              "      <script>\n",
              "        const buttonEl =\n",
              "          document.querySelector('#df-47654a0a-6e35-41b2-ada7-9b5ed87e19f9 button.colab-df-convert');\n",
              "        buttonEl.style.display =\n",
              "          google.colab.kernel.accessAllowed ? 'block' : 'none';\n",
              "\n",
              "        async function convertToInteractive(key) {\n",
              "          const element = document.querySelector('#df-47654a0a-6e35-41b2-ada7-9b5ed87e19f9');\n",
              "          const dataTable =\n",
              "            await google.colab.kernel.invokeFunction('convertToInteractive',\n",
              "                                                     [key], {});\n",
              "          if (!dataTable) return;\n",
              "\n",
              "          const docLinkHtml = 'Like what you see? Visit the ' +\n",
              "            '<a target=\"_blank\" href=https://colab.research.google.com/notebooks/data_table.ipynb>data table notebook</a>'\n",
              "            + ' to learn more about interactive tables.';\n",
              "          element.innerHTML = '';\n",
              "          dataTable['output_type'] = 'display_data';\n",
              "          await google.colab.output.renderOutput(dataTable, element);\n",
              "          const docLink = document.createElement('div');\n",
              "          docLink.innerHTML = docLinkHtml;\n",
              "          element.appendChild(docLink);\n",
              "        }\n",
              "      </script>\n",
              "    </div>\n",
              "  </div>\n",
              "  "
            ]
          },
          "metadata": {},
          "execution_count": 153
        }
      ]
    },
    {
      "cell_type": "code",
      "source": [
        "pd.unique(dfmeucobertura['Código Nacional'])"
      ],
      "metadata": {
        "id": "UGVbgzUlsm-7"
      },
      "execution_count": null,
      "outputs": []
    },
    {
      "cell_type": "markdown",
      "source": [
        "**Unique**\n",
        "* Operadora == ok\n",
        "* Tecnologia Cobertura==['2G', '3G+4G', '3G', '4G', 'Todas']\n",
        "* Moradores Cobertos == tem ... \n",
        "* Domicílios Cobertos == tem ...\n",
        "* Área km2 Coberta == tem ...\n",
        "* Moradores Município == tem ... e nan \n",
        "* Domicílios Município == tem ... e nan \n",
        "* Área Município km2 == tem ...\n",
        "* Ano == [2021.,   nan]\n",
        "* Município == tem ...\n",
        "* UF == ok \n",
        "* Nome UF == ok \n",
        "* Região == ['Sul', 'Sudeste', 'Nordeste', 'Norte', 'Centro-oeste']"
      ],
      "metadata": {
        "id": "qW9VvrlZ2kIV"
      }
    },
    {
      "cell_type": "markdown",
      "source": [
        "# acesso a cobertura "
      ],
      "metadata": {
        "id": "_fwwcAJu3zdb"
      }
    },
    {
      "cell_type": "code",
      "source": [
        "dfcobertura= pd.read_csv('/content/drive/MyDrive/arquivos/Acessos_TV_Assinatura.csv',sep=\";\")"
      ],
      "metadata": {
        "id": "0Wh24l5Z3HZz"
      },
      "execution_count": null,
      "outputs": []
    },
    {
      "cell_type": "code",
      "source": [
        "pd.set_option('display.max_columns',24)"
      ],
      "metadata": {
        "id": "qURsAZUu3HWL"
      },
      "execution_count": null,
      "outputs": []
    },
    {
      "cell_type": "code",
      "source": [
        "dfcobertura.groupby(['UF','Grupo Econômico']).count()"
      ],
      "metadata": {
        "id": "fkBnvZJBLdCO"
      },
      "execution_count": null,
      "outputs": []
    },
    {
      "cell_type": "code",
      "source": [
        "dfcobertura.head(1)"
      ],
      "metadata": {
        "colab": {
          "base_uri": "https://localhost:8080/",
          "height": 197
        },
        "id": "88-841E67P4U",
        "outputId": "e93fd52d-2fc2-4f24-debe-4bc2a0237eda"
      },
      "execution_count": null,
      "outputs": [
        {
          "output_type": "execute_result",
          "data": {
            "text/plain": [
              "    Ano  Mês Grupo Econômico Empresa           CNPJ Porte da Prestadora  UF  \\\n",
              "0  2021   11              OI      OI  5423963000111        Grande Porte  MS   \n",
              "\n",
              "   Município  Código IBGE Município Tecnologia Meio de Acesso Tipo de Pessoa  \\\n",
              "0  Vicentina                5008404        DTH       Satélite  Pessoa Física   \n",
              "\n",
              "   Acessos  \n",
              "0       30  "
            ],
            "text/html": [
              "\n",
              "  <div id=\"df-732305d2-f7a4-4bb8-b1ec-035eccc195ac\">\n",
              "    <div class=\"colab-df-container\">\n",
              "      <div>\n",
              "<style scoped>\n",
              "    .dataframe tbody tr th:only-of-type {\n",
              "        vertical-align: middle;\n",
              "    }\n",
              "\n",
              "    .dataframe tbody tr th {\n",
              "        vertical-align: top;\n",
              "    }\n",
              "\n",
              "    .dataframe thead th {\n",
              "        text-align: right;\n",
              "    }\n",
              "</style>\n",
              "<table border=\"1\" class=\"dataframe\">\n",
              "  <thead>\n",
              "    <tr style=\"text-align: right;\">\n",
              "      <th></th>\n",
              "      <th>Ano</th>\n",
              "      <th>Mês</th>\n",
              "      <th>Grupo Econômico</th>\n",
              "      <th>Empresa</th>\n",
              "      <th>CNPJ</th>\n",
              "      <th>Porte da Prestadora</th>\n",
              "      <th>UF</th>\n",
              "      <th>Município</th>\n",
              "      <th>Código IBGE Município</th>\n",
              "      <th>Tecnologia</th>\n",
              "      <th>Meio de Acesso</th>\n",
              "      <th>Tipo de Pessoa</th>\n",
              "      <th>Acessos</th>\n",
              "    </tr>\n",
              "  </thead>\n",
              "  <tbody>\n",
              "    <tr>\n",
              "      <th>0</th>\n",
              "      <td>2021</td>\n",
              "      <td>11</td>\n",
              "      <td>OI</td>\n",
              "      <td>OI</td>\n",
              "      <td>5423963000111</td>\n",
              "      <td>Grande Porte</td>\n",
              "      <td>MS</td>\n",
              "      <td>Vicentina</td>\n",
              "      <td>5008404</td>\n",
              "      <td>DTH</td>\n",
              "      <td>Satélite</td>\n",
              "      <td>Pessoa Física</td>\n",
              "      <td>30</td>\n",
              "    </tr>\n",
              "  </tbody>\n",
              "</table>\n",
              "</div>\n",
              "      <button class=\"colab-df-convert\" onclick=\"convertToInteractive('df-732305d2-f7a4-4bb8-b1ec-035eccc195ac')\"\n",
              "              title=\"Convert this dataframe to an interactive table.\"\n",
              "              style=\"display:none;\">\n",
              "        \n",
              "  <svg xmlns=\"http://www.w3.org/2000/svg\" height=\"24px\"viewBox=\"0 0 24 24\"\n",
              "       width=\"24px\">\n",
              "    <path d=\"M0 0h24v24H0V0z\" fill=\"none\"/>\n",
              "    <path d=\"M18.56 5.44l.94 2.06.94-2.06 2.06-.94-2.06-.94-.94-2.06-.94 2.06-2.06.94zm-11 1L8.5 8.5l.94-2.06 2.06-.94-2.06-.94L8.5 2.5l-.94 2.06-2.06.94zm10 10l.94 2.06.94-2.06 2.06-.94-2.06-.94-.94-2.06-.94 2.06-2.06.94z\"/><path d=\"M17.41 7.96l-1.37-1.37c-.4-.4-.92-.59-1.43-.59-.52 0-1.04.2-1.43.59L10.3 9.45l-7.72 7.72c-.78.78-.78 2.05 0 2.83L4 21.41c.39.39.9.59 1.41.59.51 0 1.02-.2 1.41-.59l7.78-7.78 2.81-2.81c.8-.78.8-2.07 0-2.86zM5.41 20L4 18.59l7.72-7.72 1.47 1.35L5.41 20z\"/>\n",
              "  </svg>\n",
              "      </button>\n",
              "      \n",
              "  <style>\n",
              "    .colab-df-container {\n",
              "      display:flex;\n",
              "      flex-wrap:wrap;\n",
              "      gap: 12px;\n",
              "    }\n",
              "\n",
              "    .colab-df-convert {\n",
              "      background-color: #E8F0FE;\n",
              "      border: none;\n",
              "      border-radius: 50%;\n",
              "      cursor: pointer;\n",
              "      display: none;\n",
              "      fill: #1967D2;\n",
              "      height: 32px;\n",
              "      padding: 0 0 0 0;\n",
              "      width: 32px;\n",
              "    }\n",
              "\n",
              "    .colab-df-convert:hover {\n",
              "      background-color: #E2EBFA;\n",
              "      box-shadow: 0px 1px 2px rgba(60, 64, 67, 0.3), 0px 1px 3px 1px rgba(60, 64, 67, 0.15);\n",
              "      fill: #174EA6;\n",
              "    }\n",
              "\n",
              "    [theme=dark] .colab-df-convert {\n",
              "      background-color: #3B4455;\n",
              "      fill: #D2E3FC;\n",
              "    }\n",
              "\n",
              "    [theme=dark] .colab-df-convert:hover {\n",
              "      background-color: #434B5C;\n",
              "      box-shadow: 0px 1px 3px 1px rgba(0, 0, 0, 0.15);\n",
              "      filter: drop-shadow(0px 1px 2px rgba(0, 0, 0, 0.3));\n",
              "      fill: #FFFFFF;\n",
              "    }\n",
              "  </style>\n",
              "\n",
              "      <script>\n",
              "        const buttonEl =\n",
              "          document.querySelector('#df-732305d2-f7a4-4bb8-b1ec-035eccc195ac button.colab-df-convert');\n",
              "        buttonEl.style.display =\n",
              "          google.colab.kernel.accessAllowed ? 'block' : 'none';\n",
              "\n",
              "        async function convertToInteractive(key) {\n",
              "          const element = document.querySelector('#df-732305d2-f7a4-4bb8-b1ec-035eccc195ac');\n",
              "          const dataTable =\n",
              "            await google.colab.kernel.invokeFunction('convertToInteractive',\n",
              "                                                     [key], {});\n",
              "          if (!dataTable) return;\n",
              "\n",
              "          const docLinkHtml = 'Like what you see? Visit the ' +\n",
              "            '<a target=\"_blank\" href=https://colab.research.google.com/notebooks/data_table.ipynb>data table notebook</a>'\n",
              "            + ' to learn more about interactive tables.';\n",
              "          element.innerHTML = '';\n",
              "          dataTable['output_type'] = 'display_data';\n",
              "          await google.colab.output.renderOutput(dataTable, element);\n",
              "          const docLink = document.createElement('div');\n",
              "          docLink.innerHTML = docLinkHtml;\n",
              "          element.appendChild(docLink);\n",
              "        }\n",
              "      </script>\n",
              "    </div>\n",
              "  </div>\n",
              "  "
            ]
          },
          "metadata": {},
          "execution_count": 168
        }
      ]
    },
    {
      "cell_type": "code",
      "source": [
        "pd.unique(dfcobertura['Acessos'])"
      ],
      "metadata": {
        "colab": {
          "base_uri": "https://localhost:8080/"
        },
        "id": "6bYvPmpk6Wob",
        "outputId": "e80f56b9-184d-4b1d-a4fa-ff204e5c84c1"
      },
      "execution_count": null,
      "outputs": [
        {
          "output_type": "execute_result",
          "data": {
            "text/plain": [
              "array([   30,    11,     2, ..., 69196, 37897, 46928])"
            ]
          },
          "metadata": {},
          "execution_count": 181
        }
      ]
    },
    {
      "cell_type": "markdown",
      "source": [
        "**unique**\n",
        "* Ano == [2021, 2020, 2019, 2018, 2017, 2016, 2015, 2014, 2013, 2012]\n",
        "* Mês == [11, 10,  9,  8,  7,  6,  5,  4,  3,  2,  1, 12]\n",
        "* Grupo Econômico == ok \n",
        "* Empresa == ok \n",
        "* CNPJ == OK  \n",
        "* Porte da Prestadora == ['Grande Porte', 'Pequeno Porte']\n",
        "* UF == ok \n",
        "* Município == tem ...\n",
        "* Tecnologia == ok \n",
        "* Meio de Acesso == indeterminado \n",
        "* Tipo de Pessoa == não informado  e nan \n",
        "* Acessos == tem ..."
      ],
      "metadata": {
        "id": "BusnDD7v9PGv"
      }
    },
    {
      "cell_type": "markdown",
      "source": [
        "# Cobertura todas"
      ],
      "metadata": {
        "id": "m1CbG_lr3-pT"
      }
    },
    {
      "cell_type": "code",
      "source": [
        "dfmeutodas= pd.read_csv('/content/drive/MyDrive/arquivos/Cobertura_Todas.csv',sep=\";\")"
      ],
      "metadata": {
        "colab": {
          "base_uri": "https://localhost:8080/"
        },
        "id": "I5yTbQKN3HTL",
        "outputId": "77330b0c-0429-4963-97d8-8944292847af"
      },
      "execution_count": null,
      "outputs": [
        {
          "output_type": "stream",
          "name": "stderr",
          "text": [
            "/usr/local/lib/python3.7/dist-packages/IPython/core/interactiveshell.py:2882: DtypeWarning: Columns (7,8) have mixed types.Specify dtype option on import or set low_memory=False.\n",
            "  exec(code_obj, self.user_global_ns, self.user_ns)\n"
          ]
        }
      ]
    },
    {
      "cell_type": "code",
      "source": [
        "pd.set_option('display.max_columns',24)"
      ],
      "metadata": {
        "id": "5jAW8cZQ4AUz"
      },
      "execution_count": null,
      "outputs": []
    },
    {
      "cell_type": "code",
      "source": [
        "dfmeutodas.head(1)"
      ],
      "metadata": {
        "colab": {
          "base_uri": "https://localhost:8080/",
          "height": 197
        },
        "id": "8zEJgSDY7YdS",
        "outputId": "79ec3105-8d3c-4e1a-bbf9-b82e935b9a7a"
      },
      "execution_count": null,
      "outputs": [
        {
          "output_type": "execute_result",
          "data": {
            "text/plain": [
              "    Ano Operadora Tecnologia  Código Setor Censitário  \\\n",
              "0  2021     Todas         3G          316550305000007   \n",
              "\n",
              "                      Bairro Tipo Setor  Código Localidade Nome Localidade  \\\n",
              "0  SARDOÁ (todos os setores)      Rural                NaN             NaN   \n",
              "\n",
              "  Categoria Localidade  Localidade Agregadora  Código Município Município  UF  \\\n",
              "0                  NaN                    NaN           3165503    Sardoá  MG   \n",
              "\n",
              "    Região     Área (km2)  Domicílios  Moradores Percentual Cobertura  \n",
              "0  Sudeste  15,0636616619        74.0      295.0               11,324  "
            ],
            "text/html": [
              "\n",
              "  <div id=\"df-2d64906f-1889-4fb7-b898-3e0448ea1948\">\n",
              "    <div class=\"colab-df-container\">\n",
              "      <div>\n",
              "<style scoped>\n",
              "    .dataframe tbody tr th:only-of-type {\n",
              "        vertical-align: middle;\n",
              "    }\n",
              "\n",
              "    .dataframe tbody tr th {\n",
              "        vertical-align: top;\n",
              "    }\n",
              "\n",
              "    .dataframe thead th {\n",
              "        text-align: right;\n",
              "    }\n",
              "</style>\n",
              "<table border=\"1\" class=\"dataframe\">\n",
              "  <thead>\n",
              "    <tr style=\"text-align: right;\">\n",
              "      <th></th>\n",
              "      <th>Ano</th>\n",
              "      <th>Operadora</th>\n",
              "      <th>Tecnologia</th>\n",
              "      <th>Código Setor Censitário</th>\n",
              "      <th>Bairro</th>\n",
              "      <th>Tipo Setor</th>\n",
              "      <th>Código Localidade</th>\n",
              "      <th>Nome Localidade</th>\n",
              "      <th>Categoria Localidade</th>\n",
              "      <th>Localidade Agregadora</th>\n",
              "      <th>Código Município</th>\n",
              "      <th>Município</th>\n",
              "      <th>UF</th>\n",
              "      <th>Região</th>\n",
              "      <th>Área (km2)</th>\n",
              "      <th>Domicílios</th>\n",
              "      <th>Moradores</th>\n",
              "      <th>Percentual Cobertura</th>\n",
              "    </tr>\n",
              "  </thead>\n",
              "  <tbody>\n",
              "    <tr>\n",
              "      <th>0</th>\n",
              "      <td>2021</td>\n",
              "      <td>Todas</td>\n",
              "      <td>3G</td>\n",
              "      <td>316550305000007</td>\n",
              "      <td>SARDOÁ (todos os setores)</td>\n",
              "      <td>Rural</td>\n",
              "      <td>NaN</td>\n",
              "      <td>NaN</td>\n",
              "      <td>NaN</td>\n",
              "      <td>NaN</td>\n",
              "      <td>3165503</td>\n",
              "      <td>Sardoá</td>\n",
              "      <td>MG</td>\n",
              "      <td>Sudeste</td>\n",
              "      <td>15,0636616619</td>\n",
              "      <td>74.0</td>\n",
              "      <td>295.0</td>\n",
              "      <td>11,324</td>\n",
              "    </tr>\n",
              "  </tbody>\n",
              "</table>\n",
              "</div>\n",
              "      <button class=\"colab-df-convert\" onclick=\"convertToInteractive('df-2d64906f-1889-4fb7-b898-3e0448ea1948')\"\n",
              "              title=\"Convert this dataframe to an interactive table.\"\n",
              "              style=\"display:none;\">\n",
              "        \n",
              "  <svg xmlns=\"http://www.w3.org/2000/svg\" height=\"24px\"viewBox=\"0 0 24 24\"\n",
              "       width=\"24px\">\n",
              "    <path d=\"M0 0h24v24H0V0z\" fill=\"none\"/>\n",
              "    <path d=\"M18.56 5.44l.94 2.06.94-2.06 2.06-.94-2.06-.94-.94-2.06-.94 2.06-2.06.94zm-11 1L8.5 8.5l.94-2.06 2.06-.94-2.06-.94L8.5 2.5l-.94 2.06-2.06.94zm10 10l.94 2.06.94-2.06 2.06-.94-2.06-.94-.94-2.06-.94 2.06-2.06.94z\"/><path d=\"M17.41 7.96l-1.37-1.37c-.4-.4-.92-.59-1.43-.59-.52 0-1.04.2-1.43.59L10.3 9.45l-7.72 7.72c-.78.78-.78 2.05 0 2.83L4 21.41c.39.39.9.59 1.41.59.51 0 1.02-.2 1.41-.59l7.78-7.78 2.81-2.81c.8-.78.8-2.07 0-2.86zM5.41 20L4 18.59l7.72-7.72 1.47 1.35L5.41 20z\"/>\n",
              "  </svg>\n",
              "      </button>\n",
              "      \n",
              "  <style>\n",
              "    .colab-df-container {\n",
              "      display:flex;\n",
              "      flex-wrap:wrap;\n",
              "      gap: 12px;\n",
              "    }\n",
              "\n",
              "    .colab-df-convert {\n",
              "      background-color: #E8F0FE;\n",
              "      border: none;\n",
              "      border-radius: 50%;\n",
              "      cursor: pointer;\n",
              "      display: none;\n",
              "      fill: #1967D2;\n",
              "      height: 32px;\n",
              "      padding: 0 0 0 0;\n",
              "      width: 32px;\n",
              "    }\n",
              "\n",
              "    .colab-df-convert:hover {\n",
              "      background-color: #E2EBFA;\n",
              "      box-shadow: 0px 1px 2px rgba(60, 64, 67, 0.3), 0px 1px 3px 1px rgba(60, 64, 67, 0.15);\n",
              "      fill: #174EA6;\n",
              "    }\n",
              "\n",
              "    [theme=dark] .colab-df-convert {\n",
              "      background-color: #3B4455;\n",
              "      fill: #D2E3FC;\n",
              "    }\n",
              "\n",
              "    [theme=dark] .colab-df-convert:hover {\n",
              "      background-color: #434B5C;\n",
              "      box-shadow: 0px 1px 3px 1px rgba(0, 0, 0, 0.15);\n",
              "      filter: drop-shadow(0px 1px 2px rgba(0, 0, 0, 0.3));\n",
              "      fill: #FFFFFF;\n",
              "    }\n",
              "  </style>\n",
              "\n",
              "      <script>\n",
              "        const buttonEl =\n",
              "          document.querySelector('#df-2d64906f-1889-4fb7-b898-3e0448ea1948 button.colab-df-convert');\n",
              "        buttonEl.style.display =\n",
              "          google.colab.kernel.accessAllowed ? 'block' : 'none';\n",
              "\n",
              "        async function convertToInteractive(key) {\n",
              "          const element = document.querySelector('#df-2d64906f-1889-4fb7-b898-3e0448ea1948');\n",
              "          const dataTable =\n",
              "            await google.colab.kernel.invokeFunction('convertToInteractive',\n",
              "                                                     [key], {});\n",
              "          if (!dataTable) return;\n",
              "\n",
              "          const docLinkHtml = 'Like what you see? Visit the ' +\n",
              "            '<a target=\"_blank\" href=https://colab.research.google.com/notebooks/data_table.ipynb>data table notebook</a>'\n",
              "            + ' to learn more about interactive tables.';\n",
              "          element.innerHTML = '';\n",
              "          dataTable['output_type'] = 'display_data';\n",
              "          await google.colab.output.renderOutput(dataTable, element);\n",
              "          const docLink = document.createElement('div');\n",
              "          docLink.innerHTML = docLinkHtml;\n",
              "          element.appendChild(docLink);\n",
              "        }\n",
              "      </script>\n",
              "    </div>\n",
              "  </div>\n",
              "  "
            ]
          },
          "metadata": {},
          "execution_count": 182
        }
      ]
    },
    {
      "cell_type": "code",
      "source": [
        "pd.unique(dfmeutodas['UF'])"
      ],
      "metadata": {
        "colab": {
          "base_uri": "https://localhost:8080/"
        },
        "id": "lXCsN43cJrlk",
        "outputId": "245f8e41-c23a-419c-8be1-c5ada98d1335"
      },
      "execution_count": null,
      "outputs": [
        {
          "output_type": "execute_result",
          "data": {
            "text/plain": [
              "array(['MG', 'SP', 'MS', 'AC', 'PI', 'MT', 'SE', 'DF', 'ES', 'RJ', 'RO',\n",
              "       'AM', 'GO', 'PR', 'PE', 'AP', 'TO', 'RR', 'PB', 'CE', 'RS', 'AL',\n",
              "       'PA', 'SC', 'RN', 'MA', 'BA'], dtype=object)"
            ]
          },
          "metadata": {},
          "execution_count": 192
        }
      ]
    },
    {
      "cell_type": "markdown",
      "source": [
        "**unique**\n",
        "* Ano == 2021 \n",
        "* operadoras==Todas \n",
        "* Tecnologia == ['3G', '2G3G4G', '3G4G', '4G', '2G']\n",
        "* Bairro == tem ...\n",
        "* Tipo Setor == ['Rural', 'Urbano']\n",
        "* Município\t== tem ...\n",
        "* UF == Ok\n",
        "* regiao == ok \n"
      ],
      "metadata": {
        "id": "RgjnLjvIAnCt"
      }
    },
    {
      "cell_type": "markdown",
      "source": [
        "# Meu Municipio acesso "
      ],
      "metadata": {
        "id": "ix7zGPqp4J5q"
      }
    },
    {
      "cell_type": "code",
      "source": [
        "dfmeuacesso= pd.read_csv('/content/drive/MyDrive/arquivos/Meu_Municipio_Acessos.csv',sep=\";\")"
      ],
      "metadata": {
        "id": "eJvQ-8Dk4K_S"
      },
      "execution_count": null,
      "outputs": []
    },
    {
      "cell_type": "code",
      "source": [
        "pd.set_option('display.max_columns',24)"
      ],
      "metadata": {
        "id": "2d6jWL0m4KSi"
      },
      "execution_count": null,
      "outputs": []
    },
    {
      "cell_type": "code",
      "source": [
        "dfmeuacesso.head(1)"
      ],
      "metadata": {
        "colab": {
          "base_uri": "https://localhost:8080/",
          "height": 197
        },
        "id": "e3DkfsIK7dHy",
        "outputId": "929049e4-9879-4fdc-b4a7-56ff677fe9b8"
      },
      "execution_count": null,
      "outputs": [
        {
          "output_type": "execute_result",
          "data": {
            "text/plain": [
              "    Ano  Mês  Acessos          Serviço        Densidade  Código IBGE  \\\n",
              "0  2021    6     5597  Telefonia Móvel  73,114931636659      4118709   \n",
              "\n",
              "            Município  UF Nome UF Região  Código Nacional  \n",
              "0  Paulo Frontin - PR  PR  Paraná    Sul               42  "
            ],
            "text/html": [
              "\n",
              "  <div id=\"df-8dda6bd1-30dc-4d23-a7e1-15cb46242ea7\">\n",
              "    <div class=\"colab-df-container\">\n",
              "      <div>\n",
              "<style scoped>\n",
              "    .dataframe tbody tr th:only-of-type {\n",
              "        vertical-align: middle;\n",
              "    }\n",
              "\n",
              "    .dataframe tbody tr th {\n",
              "        vertical-align: top;\n",
              "    }\n",
              "\n",
              "    .dataframe thead th {\n",
              "        text-align: right;\n",
              "    }\n",
              "</style>\n",
              "<table border=\"1\" class=\"dataframe\">\n",
              "  <thead>\n",
              "    <tr style=\"text-align: right;\">\n",
              "      <th></th>\n",
              "      <th>Ano</th>\n",
              "      <th>Mês</th>\n",
              "      <th>Acessos</th>\n",
              "      <th>Serviço</th>\n",
              "      <th>Densidade</th>\n",
              "      <th>Código IBGE</th>\n",
              "      <th>Município</th>\n",
              "      <th>UF</th>\n",
              "      <th>Nome UF</th>\n",
              "      <th>Região</th>\n",
              "      <th>Código Nacional</th>\n",
              "    </tr>\n",
              "  </thead>\n",
              "  <tbody>\n",
              "    <tr>\n",
              "      <th>0</th>\n",
              "      <td>2021</td>\n",
              "      <td>6</td>\n",
              "      <td>5597</td>\n",
              "      <td>Telefonia Móvel</td>\n",
              "      <td>73,114931636659</td>\n",
              "      <td>4118709</td>\n",
              "      <td>Paulo Frontin - PR</td>\n",
              "      <td>PR</td>\n",
              "      <td>Paraná</td>\n",
              "      <td>Sul</td>\n",
              "      <td>42</td>\n",
              "    </tr>\n",
              "  </tbody>\n",
              "</table>\n",
              "</div>\n",
              "      <button class=\"colab-df-convert\" onclick=\"convertToInteractive('df-8dda6bd1-30dc-4d23-a7e1-15cb46242ea7')\"\n",
              "              title=\"Convert this dataframe to an interactive table.\"\n",
              "              style=\"display:none;\">\n",
              "        \n",
              "  <svg xmlns=\"http://www.w3.org/2000/svg\" height=\"24px\"viewBox=\"0 0 24 24\"\n",
              "       width=\"24px\">\n",
              "    <path d=\"M0 0h24v24H0V0z\" fill=\"none\"/>\n",
              "    <path d=\"M18.56 5.44l.94 2.06.94-2.06 2.06-.94-2.06-.94-.94-2.06-.94 2.06-2.06.94zm-11 1L8.5 8.5l.94-2.06 2.06-.94-2.06-.94L8.5 2.5l-.94 2.06-2.06.94zm10 10l.94 2.06.94-2.06 2.06-.94-2.06-.94-.94-2.06-.94 2.06-2.06.94z\"/><path d=\"M17.41 7.96l-1.37-1.37c-.4-.4-.92-.59-1.43-.59-.52 0-1.04.2-1.43.59L10.3 9.45l-7.72 7.72c-.78.78-.78 2.05 0 2.83L4 21.41c.39.39.9.59 1.41.59.51 0 1.02-.2 1.41-.59l7.78-7.78 2.81-2.81c.8-.78.8-2.07 0-2.86zM5.41 20L4 18.59l7.72-7.72 1.47 1.35L5.41 20z\"/>\n",
              "  </svg>\n",
              "      </button>\n",
              "      \n",
              "  <style>\n",
              "    .colab-df-container {\n",
              "      display:flex;\n",
              "      flex-wrap:wrap;\n",
              "      gap: 12px;\n",
              "    }\n",
              "\n",
              "    .colab-df-convert {\n",
              "      background-color: #E8F0FE;\n",
              "      border: none;\n",
              "      border-radius: 50%;\n",
              "      cursor: pointer;\n",
              "      display: none;\n",
              "      fill: #1967D2;\n",
              "      height: 32px;\n",
              "      padding: 0 0 0 0;\n",
              "      width: 32px;\n",
              "    }\n",
              "\n",
              "    .colab-df-convert:hover {\n",
              "      background-color: #E2EBFA;\n",
              "      box-shadow: 0px 1px 2px rgba(60, 64, 67, 0.3), 0px 1px 3px 1px rgba(60, 64, 67, 0.15);\n",
              "      fill: #174EA6;\n",
              "    }\n",
              "\n",
              "    [theme=dark] .colab-df-convert {\n",
              "      background-color: #3B4455;\n",
              "      fill: #D2E3FC;\n",
              "    }\n",
              "\n",
              "    [theme=dark] .colab-df-convert:hover {\n",
              "      background-color: #434B5C;\n",
              "      box-shadow: 0px 1px 3px 1px rgba(0, 0, 0, 0.15);\n",
              "      filter: drop-shadow(0px 1px 2px rgba(0, 0, 0, 0.3));\n",
              "      fill: #FFFFFF;\n",
              "    }\n",
              "  </style>\n",
              "\n",
              "      <script>\n",
              "        const buttonEl =\n",
              "          document.querySelector('#df-8dda6bd1-30dc-4d23-a7e1-15cb46242ea7 button.colab-df-convert');\n",
              "        buttonEl.style.display =\n",
              "          google.colab.kernel.accessAllowed ? 'block' : 'none';\n",
              "\n",
              "        async function convertToInteractive(key) {\n",
              "          const element = document.querySelector('#df-8dda6bd1-30dc-4d23-a7e1-15cb46242ea7');\n",
              "          const dataTable =\n",
              "            await google.colab.kernel.invokeFunction('convertToInteractive',\n",
              "                                                     [key], {});\n",
              "          if (!dataTable) return;\n",
              "\n",
              "          const docLinkHtml = 'Like what you see? Visit the ' +\n",
              "            '<a target=\"_blank\" href=https://colab.research.google.com/notebooks/data_table.ipynb>data table notebook</a>'\n",
              "            + ' to learn more about interactive tables.';\n",
              "          element.innerHTML = '';\n",
              "          dataTable['output_type'] = 'display_data';\n",
              "          await google.colab.output.renderOutput(dataTable, element);\n",
              "          const docLink = document.createElement('div');\n",
              "          docLink.innerHTML = docLinkHtml;\n",
              "          element.appendChild(docLink);\n",
              "        }\n",
              "      </script>\n",
              "    </div>\n",
              "  </div>\n",
              "  "
            ]
          },
          "metadata": {},
          "execution_count": 193
        }
      ]
    },
    {
      "cell_type": "markdown",
      "source": [
        "**unique**\n",
        "* Ano == [2021, 2020, 2019]\n",
        "* Mês == [ 6, 12]\n",
        "* Serviço == ['Telefonia Móvel', 'Banda Larga Fixa', 'TV por Assinatura' 'Telefonia Fixa']\n",
        "* Município == tem ...\n",
        "* UF == ok \n",
        "* Nome UF == ok\n",
        "* Região == ok "
      ],
      "metadata": {
        "id": "wfmvwGvAPEYs"
      }
    },
    {
      "cell_type": "code",
      "source": [
        "pd.unique(dfmeuacesso['Código Nacional'])"
      ],
      "metadata": {
        "colab": {
          "base_uri": "https://localhost:8080/"
        },
        "id": "alaunyzSPAf2",
        "outputId": "d044596e-364d-4220-ac6f-09ec74a76611"
      },
      "execution_count": null,
      "outputs": [
        {
          "output_type": "execute_result",
          "data": {
            "text/plain": [
              "array([42, 22, 74, 43, 77, 17, 69, 91, 62, 45, 75, 61, 33, 73, 32, 44, 11,\n",
              "       41, 14, 94, 21, 18, 79, 46, 15, 49, 82, 13, 19, 71, 83, 64, 48, 24,\n",
              "       34, 53, 81, 47, 68, 31, 38, 63, 54, 84, 93, 66, 88, 86, 95, 99, 55,\n",
              "       51, 65, 96, 92, 97, 89, 98, 85, 67, 27, 16, 35, 37, 87, 28, 12])"
            ]
          },
          "metadata": {},
          "execution_count": 203
        }
      ]
    },
    {
      "cell_type": "markdown",
      "source": [
        "# Acessos_Telefonia_Movel_202201-202106_Colunas.csv"
      ],
      "metadata": {
        "id": "F45OHeZKK9G-"
      }
    },
    {
      "cell_type": "code",
      "source": [
        "dftm= pd.read_csv('/content/drive/MyDrive/arquivos/Acessos_Telefonia_Movel_202201-202206.csv',sep=';')"
      ],
      "metadata": {
        "id": "V6owPR-0K8Ae"
      },
      "execution_count": 99,
      "outputs": []
    },
    {
      "cell_type": "code",
      "source": [
        "pd.set_option('display.max_columns',34)"
      ],
      "metadata": {
        "id": "kqnQmA2cK70P"
      },
      "execution_count": 31,
      "outputs": []
    },
    {
      "cell_type": "code",
      "source": [
        "dftm.to_json(\"AcessoTelefonia.json\")"
      ],
      "metadata": {
        "id": "YgVqkcwKYGGv"
      },
      "execution_count": 101,
      "outputs": []
    },
    {
      "cell_type": "code",
      "source": [
        "dftm.isnull().count()"
      ],
      "metadata": {
        "id": "Xccrm5-VLi4H"
      },
      "execution_count": null,
      "outputs": []
    },
    {
      "cell_type": "code",
      "source": [
        "dftm.head(1)"
      ],
      "metadata": {
        "colab": {
          "base_uri": "https://localhost:8080/",
          "height": 197
        },
        "id": "CV2GaHzVNFPH",
        "outputId": "096ea153-50e0-4014-972a-8a9b24ce1970"
      },
      "execution_count": 37,
      "outputs": [
        {
          "output_type": "execute_result",
          "data": {
            "text/plain": [
              "    Ano  Mês Grupo Econômico Empresa           CNPJ Porte da Prestadora  UF  \\\n",
              "0  2022    3              OI      OI  5423963000111        Grande Porte  RN   \n",
              "\n",
              "  Município  Código IBGE Município  Código Nacional  Código Nacional (Chip)  \\\n",
              "0   Mossoró                2408003               84                      67   \n",
              "\n",
              "  Modalidade de Cobrança Tecnologia Tecnologia Geração   Tipo de Pessoa  \\\n",
              "0               Pós-pago        GSM                 2G  Pessoa Jurídica   \n",
              "\n",
              "  Tipo de Produto  Acessos  \n",
              "0             M2M        4  "
            ],
            "text/html": [
              "\n",
              "  <div id=\"df-f7a2908b-f527-42ca-b08e-c8793696f0cf\">\n",
              "    <div class=\"colab-df-container\">\n",
              "      <div>\n",
              "<style scoped>\n",
              "    .dataframe tbody tr th:only-of-type {\n",
              "        vertical-align: middle;\n",
              "    }\n",
              "\n",
              "    .dataframe tbody tr th {\n",
              "        vertical-align: top;\n",
              "    }\n",
              "\n",
              "    .dataframe thead th {\n",
              "        text-align: right;\n",
              "    }\n",
              "</style>\n",
              "<table border=\"1\" class=\"dataframe\">\n",
              "  <thead>\n",
              "    <tr style=\"text-align: right;\">\n",
              "      <th></th>\n",
              "      <th>Ano</th>\n",
              "      <th>Mês</th>\n",
              "      <th>Grupo Econômico</th>\n",
              "      <th>Empresa</th>\n",
              "      <th>CNPJ</th>\n",
              "      <th>Porte da Prestadora</th>\n",
              "      <th>UF</th>\n",
              "      <th>Município</th>\n",
              "      <th>Código IBGE Município</th>\n",
              "      <th>Código Nacional</th>\n",
              "      <th>Código Nacional (Chip)</th>\n",
              "      <th>Modalidade de Cobrança</th>\n",
              "      <th>Tecnologia</th>\n",
              "      <th>Tecnologia Geração</th>\n",
              "      <th>Tipo de Pessoa</th>\n",
              "      <th>Tipo de Produto</th>\n",
              "      <th>Acessos</th>\n",
              "    </tr>\n",
              "  </thead>\n",
              "  <tbody>\n",
              "    <tr>\n",
              "      <th>0</th>\n",
              "      <td>2022</td>\n",
              "      <td>3</td>\n",
              "      <td>OI</td>\n",
              "      <td>OI</td>\n",
              "      <td>5423963000111</td>\n",
              "      <td>Grande Porte</td>\n",
              "      <td>RN</td>\n",
              "      <td>Mossoró</td>\n",
              "      <td>2408003</td>\n",
              "      <td>84</td>\n",
              "      <td>67</td>\n",
              "      <td>Pós-pago</td>\n",
              "      <td>GSM</td>\n",
              "      <td>2G</td>\n",
              "      <td>Pessoa Jurídica</td>\n",
              "      <td>M2M</td>\n",
              "      <td>4</td>\n",
              "    </tr>\n",
              "  </tbody>\n",
              "</table>\n",
              "</div>\n",
              "      <button class=\"colab-df-convert\" onclick=\"convertToInteractive('df-f7a2908b-f527-42ca-b08e-c8793696f0cf')\"\n",
              "              title=\"Convert this dataframe to an interactive table.\"\n",
              "              style=\"display:none;\">\n",
              "        \n",
              "  <svg xmlns=\"http://www.w3.org/2000/svg\" height=\"24px\"viewBox=\"0 0 24 24\"\n",
              "       width=\"24px\">\n",
              "    <path d=\"M0 0h24v24H0V0z\" fill=\"none\"/>\n",
              "    <path d=\"M18.56 5.44l.94 2.06.94-2.06 2.06-.94-2.06-.94-.94-2.06-.94 2.06-2.06.94zm-11 1L8.5 8.5l.94-2.06 2.06-.94-2.06-.94L8.5 2.5l-.94 2.06-2.06.94zm10 10l.94 2.06.94-2.06 2.06-.94-2.06-.94-.94-2.06-.94 2.06-2.06.94z\"/><path d=\"M17.41 7.96l-1.37-1.37c-.4-.4-.92-.59-1.43-.59-.52 0-1.04.2-1.43.59L10.3 9.45l-7.72 7.72c-.78.78-.78 2.05 0 2.83L4 21.41c.39.39.9.59 1.41.59.51 0 1.02-.2 1.41-.59l7.78-7.78 2.81-2.81c.8-.78.8-2.07 0-2.86zM5.41 20L4 18.59l7.72-7.72 1.47 1.35L5.41 20z\"/>\n",
              "  </svg>\n",
              "      </button>\n",
              "      \n",
              "  <style>\n",
              "    .colab-df-container {\n",
              "      display:flex;\n",
              "      flex-wrap:wrap;\n",
              "      gap: 12px;\n",
              "    }\n",
              "\n",
              "    .colab-df-convert {\n",
              "      background-color: #E8F0FE;\n",
              "      border: none;\n",
              "      border-radius: 50%;\n",
              "      cursor: pointer;\n",
              "      display: none;\n",
              "      fill: #1967D2;\n",
              "      height: 32px;\n",
              "      padding: 0 0 0 0;\n",
              "      width: 32px;\n",
              "    }\n",
              "\n",
              "    .colab-df-convert:hover {\n",
              "      background-color: #E2EBFA;\n",
              "      box-shadow: 0px 1px 2px rgba(60, 64, 67, 0.3), 0px 1px 3px 1px rgba(60, 64, 67, 0.15);\n",
              "      fill: #174EA6;\n",
              "    }\n",
              "\n",
              "    [theme=dark] .colab-df-convert {\n",
              "      background-color: #3B4455;\n",
              "      fill: #D2E3FC;\n",
              "    }\n",
              "\n",
              "    [theme=dark] .colab-df-convert:hover {\n",
              "      background-color: #434B5C;\n",
              "      box-shadow: 0px 1px 3px 1px rgba(0, 0, 0, 0.15);\n",
              "      filter: drop-shadow(0px 1px 2px rgba(0, 0, 0, 0.3));\n",
              "      fill: #FFFFFF;\n",
              "    }\n",
              "  </style>\n",
              "\n",
              "      <script>\n",
              "        const buttonEl =\n",
              "          document.querySelector('#df-f7a2908b-f527-42ca-b08e-c8793696f0cf button.colab-df-convert');\n",
              "        buttonEl.style.display =\n",
              "          google.colab.kernel.accessAllowed ? 'block' : 'none';\n",
              "\n",
              "        async function convertToInteractive(key) {\n",
              "          const element = document.querySelector('#df-f7a2908b-f527-42ca-b08e-c8793696f0cf');\n",
              "          const dataTable =\n",
              "            await google.colab.kernel.invokeFunction('convertToInteractive',\n",
              "                                                     [key], {});\n",
              "          if (!dataTable) return;\n",
              "\n",
              "          const docLinkHtml = 'Like what you see? Visit the ' +\n",
              "            '<a target=\"_blank\" href=https://colab.research.google.com/notebooks/data_table.ipynb>data table notebook</a>'\n",
              "            + ' to learn more about interactive tables.';\n",
              "          element.innerHTML = '';\n",
              "          dataTable['output_type'] = 'display_data';\n",
              "          await google.colab.output.renderOutput(dataTable, element);\n",
              "          const docLink = document.createElement('div');\n",
              "          docLink.innerHTML = docLinkHtml;\n",
              "          element.appendChild(docLink);\n",
              "        }\n",
              "      </script>\n",
              "    </div>\n",
              "  </div>\n",
              "  "
            ]
          },
          "metadata": {},
          "execution_count": 37
        }
      ]
    },
    {
      "cell_type": "code",
      "source": [
        "pd.unique(dftm['Acessos'])"
      ],
      "metadata": {
        "colab": {
          "base_uri": "https://localhost:8080/"
        },
        "id": "C73QnrHDY7cx",
        "outputId": "c6eb6e34-2626-4bfe-8036-9be93be054bf"
      },
      "execution_count": 53,
      "outputs": [
        {
          "output_type": "execute_result",
          "data": {
            "text/plain": [
              "array([     4,      1,     13, ..., 140477, 264101,  28800])"
            ]
          },
          "metadata": {},
          "execution_count": 53
        }
      ]
    },
    {
      "cell_type": "markdown",
      "source": [
        "**unique**\n",
        "* Ano == 2022\n",
        "* mês == [3, 2, 1]\n",
        "* grupo econômico == OI', 'TELECOM AMERICAS', 'OUTROS', 'TELECOM ITALIA','ALGAR (CTBC TELECOM)', 'TELEFÔNICA', 'SERCOMTEL/COPEL/HORIZONS','DATORA'],\n",
        "* Empresa == ['OI', 'CLARO', 'SURF TELECOM SA', 'TIM', 'ALGAR (CTBC TELECOM)','VIVO', 'Ligue Telecomunicacoes Ltda', 'SERCOMTEL/COPEL/HORIZONS','DATORA', 'J. SAFRA TELECOMUNICACOES LTDA','Next Level Telecom Ltda.', 'AMERICA NET S.A.\n",
        "* Porte da Prestadora == ['Grande Porte', 'Pequeno Porte']\n",
        "* UF == 'RN', 'SP', 'MG', 'CE', 'RJ', 'ES', 'RO', 'BA', 'PA', 'PR', 'PI','PE', 'SC', 'MA', 'MS', 'PB', 'SE', 'TO', 'RS', 'MT', 'GO', 'AL','AP', 'AM', 'AC', 'RR', 'DF'\n",
        "* Município == ['Mossoró', 'Itaquaquecetuba','Jacutinga', ..., 'Herveiras','Pindoba', 'Godoy Moreira']\n",
        "* Modalidade de Cobrança == ['Pós-pago', 'Pré-pago']\n",
        "* Tecnologia == ['GSM', 'LTE', 'WCDMA', 'NR', 'CDMA IS 95']\n",
        "* Tecnologia Geração == ['2G', '4G', '3G', '5G-DSS']\n",
        "* Tipo de Pessoa == PJ E PF \n",
        "* Tipo de Produto == ['M2M', 'VOZ+DADOS', 'DADOS', 'VOZ', 'PONTO_DE_SERVICO']\n",
        "* Acessos == [     4,      1,     13, ..., 140477, 264101,  28800]"
      ],
      "metadata": {
        "id": "0qxBb84UYwfH"
      }
    },
    {
      "cell_type": "code",
      "source": [
        "dftm.isnull().count()"
      ],
      "metadata": {
        "colab": {
          "base_uri": "https://localhost:8080/"
        },
        "id": "mW0raciojrU8",
        "outputId": "d67405b1-e50a-42ec-d00e-ec4be1bcbf8a"
      },
      "execution_count": 56,
      "outputs": [
        {
          "output_type": "execute_result",
          "data": {
            "text/plain": [
              "Ano                       6289640\n",
              "Mês                       6289640\n",
              "Grupo Econômico           6289640\n",
              "Empresa                   6289640\n",
              "CNPJ                      6289640\n",
              "Porte da Prestadora       6289640\n",
              "UF                        6289640\n",
              "Município                 6289640\n",
              "Código IBGE Município     6289640\n",
              "Código Nacional           6289640\n",
              "Código Nacional (Chip)    6289640\n",
              "Modalidade de Cobrança    6289640\n",
              "Tecnologia                6289640\n",
              "Tecnologia Geração        6289640\n",
              "Tipo de Pessoa            6289640\n",
              "Tipo de Produto           6289640\n",
              "Acessos                   6289640\n",
              "dtype: int64"
            ]
          },
          "metadata": {},
          "execution_count": 56
        }
      ]
    },
    {
      "cell_type": "code",
      "source": [
        "dftm.info()"
      ],
      "metadata": {
        "colab": {
          "base_uri": "https://localhost:8080/"
        },
        "id": "Owk4FAhsisoq",
        "outputId": "014a5bef-ea48-4075-eb12-33da90a3002e"
      },
      "execution_count": 55,
      "outputs": [
        {
          "output_type": "stream",
          "name": "stdout",
          "text": [
            "<class 'pandas.core.frame.DataFrame'>\n",
            "RangeIndex: 6289640 entries, 0 to 6289639\n",
            "Data columns (total 17 columns):\n",
            " #   Column                  Dtype \n",
            "---  ------                  ----- \n",
            " 0   Ano                     int64 \n",
            " 1   Mês                     int64 \n",
            " 2   Grupo Econômico         object\n",
            " 3   Empresa                 object\n",
            " 4   CNPJ                    int64 \n",
            " 5   Porte da Prestadora     object\n",
            " 6   UF                      object\n",
            " 7   Município               object\n",
            " 8   Código IBGE Município   int64 \n",
            " 9   Código Nacional         int64 \n",
            " 10  Código Nacional (Chip)  int64 \n",
            " 11  Modalidade de Cobrança  object\n",
            " 12  Tecnologia              object\n",
            " 13  Tecnologia Geração      object\n",
            " 14  Tipo de Pessoa          object\n",
            " 15  Tipo de Produto         object\n",
            " 16  Acessos                 int64 \n",
            "dtypes: int64(7), object(10)\n",
            "memory usage: 815.8+ MB\n"
          ]
        }
      ]
    },
    {
      "cell_type": "code",
      "source": [
        ""
      ],
      "metadata": {
        "id": "jrXdBZfTX2_W"
      },
      "execution_count": null,
      "outputs": []
    },
    {
      "cell_type": "markdown",
      "source": [
        "## spark"
      ],
      "metadata": {
        "id": "4KCDhZ8ZXSUV"
      }
    },
    {
      "cell_type": "code",
      "source": [
        "dftm_spark=(spark.read.format('csv')\n",
        "                    .option('delimiter',';')\n",
        "                    .option('header','true')\n",
        "                    .load('/content/drive/MyDrive/arquivos/Acessos_Telefonia_Movel_202201-202206.csv')\n",
        "    \n",
        ")"
      ],
      "metadata": {
        "id": "Pq3xgpEMN46j"
      },
      "execution_count": 16,
      "outputs": []
    },
    {
      "cell_type": "code",
      "source": [
        ""
      ],
      "metadata": {
        "id": "dlLxQl9yN4wm"
      },
      "execution_count": null,
      "outputs": []
    },
    {
      "cell_type": "code",
      "source": [
        "dftm_spark.printSchema()"
      ],
      "metadata": {
        "colab": {
          "base_uri": "https://localhost:8080/"
        },
        "id": "E70mW5JMPRe-",
        "outputId": "32f23a4a-93f0-4e66-8af1-788aad1ed413"
      },
      "execution_count": 21,
      "outputs": [
        {
          "output_type": "stream",
          "name": "stdout",
          "text": [
            "root\n",
            " |-- Ano: string (nullable = true)\n",
            " |-- Mês: string (nullable = true)\n",
            " |-- Grupo Econômico: string (nullable = true)\n",
            " |-- Empresa: string (nullable = true)\n",
            " |-- CNPJ: string (nullable = true)\n",
            " |-- Porte da Prestadora: string (nullable = true)\n",
            " |-- UF: string (nullable = true)\n",
            " |-- Município: string (nullable = true)\n",
            " |-- Código IBGE Município: string (nullable = true)\n",
            " |-- Código Nacional: string (nullable = true)\n",
            " |-- Código Nacional (Chip): string (nullable = true)\n",
            " |-- Modalidade de Cobrança: string (nullable = true)\n",
            " |-- Tecnologia: string (nullable = true)\n",
            " |-- Tecnologia Geração: string (nullable = true)\n",
            " |-- Tipo de Pessoa: string (nullable = true)\n",
            " |-- Tipo de Produto: string (nullable = true)\n",
            " |-- Acessos: string (nullable = true)\n",
            "\n"
          ]
        }
      ]
    },
    {
      "cell_type": "markdown",
      "source": [
        "# Tabela colunas "
      ],
      "metadata": {
        "id": "Mf2IZAGT_1Mh"
      }
    },
    {
      "cell_type": "code",
      "source": [
        "dftcol= pd.read_csv('/content/drive/MyDrive/arquivos/tabelaColunas.csv',sep=',')"
      ],
      "metadata": {
        "id": "sMIlf64q_4HQ"
      },
      "execution_count": 83,
      "outputs": []
    },
    {
      "cell_type": "code",
      "source": [
        "pd.set_option('display.max_columns',34)"
      ],
      "metadata": {
        "id": "QNcFVvP0_4K5"
      },
      "execution_count": 75,
      "outputs": []
    },
    {
      "cell_type": "code",
      "source": [
        "dftcol.head(30)"
      ],
      "metadata": {
        "colab": {
          "base_uri": "https://localhost:8080/",
          "height": 903
        },
        "id": "_0iXJMp5AVk5",
        "outputId": "38a124c5-af06-43e8-9c02-85d3492ed66e"
      },
      "execution_count": 85,
      "outputs": [
        {
          "output_type": "execute_result",
          "data": {
            "text/plain": [
              "    Unnamed: 0          0                     1                       2  \\\n",
              "0            0        Ano                   Mês         Grupo Econômico   \n",
              "1            1        Ano                   Mês         Grupo Econômico   \n",
              "2            2        Ano             Operadora              Tecnologia   \n",
              "3            3        Ano                   Mês                 Acessos   \n",
              "4            4  Operadora  Tecnologia Cobertura      Moradores Cobertos   \n",
              "5            5        Ano                   Mês            razao_social   \n",
              "6            6       CNPJ       Código Nacional               Município   \n",
              "7            7        Ano                   Mês         Grupo Econômico   \n",
              "8            8       CNPJ       Código Nacional               Município   \n",
              "9            9        Ano                   Mês         Grupo Econômico   \n",
              "10          10        Ano                   Mês  Modalidade de Cobrança   \n",
              "11          11        Ano                   Mês                 Acessos   \n",
              "12          12        Ano                   Mês                      UF   \n",
              "\n",
              "                          3                           4                    5  \\\n",
              "0                   Empresa                        CNPJ  Porte da Prestadora   \n",
              "1                   Empresa                        CNPJ  Porte da Prestadora   \n",
              "2   Código Setor Censitário                      Bairro           Tipo Setor   \n",
              "3                   Serviço                   Densidade          Código IBGE   \n",
              "4       Domicílios Cobertos            Área km2 Coberta  Moradores Município   \n",
              "5                      cnpj  velocidade_contratada_mbps                   uf   \n",
              "6                        UF      Modalidade de Cobrança           Tecnologia   \n",
              "7                   Empresa                        CNPJ  Porte da Prestadora   \n",
              "8                        UF      Modalidade de Cobrança           Tecnologia   \n",
              "9                   Empresa                        CNPJ  Porte da Prestadora   \n",
              "10                  Acessos                         NaN                  NaN   \n",
              "11                      NaN                         NaN                  NaN   \n",
              "12                Município                 Código IBGE            Densidade   \n",
              "\n",
              "                             6                   7                      8  \\\n",
              "0                           UF           Município  Código IBGE Município   \n",
              "1                           UF           Município  Código IBGE Município   \n",
              "2            Código Localidade     Nome Localidade   Categoria Localidade   \n",
              "3                    Município                  UF                Nome UF   \n",
              "4         Domicílios Município  Área Município km2                    Ano   \n",
              "5                    municipio         codigo_ibge                acessos   \n",
              "6           Tecnologia Geração             Empresa    Porte da Prestadora   \n",
              "7                           UF           Município  Código IBGE Município   \n",
              "8           Tecnologia Geração             Empresa    Porte da Prestadora   \n",
              "9                           UF           Município  Código IBGE Município   \n",
              "10                         NaN                 NaN                    NaN   \n",
              "11                         NaN                 NaN                    NaN   \n",
              "12  Nível Geográfico Densidade                 NaN                    NaN   \n",
              "\n",
              "                        9                      10                      11  \\\n",
              "0     Faixa de Velocidade              Tecnologia          Meio de Acesso   \n",
              "1              Tecnologia          Meio de Acesso          Tipo de Pessoa   \n",
              "2   Localidade Agregadora        Código Município               Município   \n",
              "3                  Região         Código Nacional                     NaN   \n",
              "4             Código IBGE               Município                      UF   \n",
              "5                    tipo            municipio_uf                     NaN   \n",
              "6          Tipo de Pessoa         Tipo de Produto   Código IBGE Município   \n",
              "7         Código Nacional  Código Nacional (Chip)  Modalidade de Cobrança   \n",
              "8          Tipo de Pessoa         Tipo de Produto   Código IBGE Município   \n",
              "9         Código Nacional  Código Nacional (Chip)  Modalidade de Cobrança   \n",
              "10                    NaN                     NaN                     NaN   \n",
              "11                    NaN                     NaN                     NaN   \n",
              "12                    NaN                     NaN                     NaN   \n",
              "\n",
              "                 12                  13               14               15  \\\n",
              "0    Tipo de Pessoa             Acessos              NaN              NaN   \n",
              "1           Acessos                 NaN              NaN              NaN   \n",
              "2                UF              Região       Área (km2)       Domicílios   \n",
              "3               NaN                 NaN              NaN              NaN   \n",
              "4           Nome UF              Região  Código Nacional              NaN   \n",
              "5               NaN                 NaN              NaN              NaN   \n",
              "6   Grupo Econômico             2021-07          2021-08          2021-09   \n",
              "7        Tecnologia  Tecnologia Geração   Tipo de Pessoa  Tipo de Produto   \n",
              "8   Grupo Econômico             2022-01          2022-02          2022-03   \n",
              "9        Tecnologia  Tecnologia Geração   Tipo de Pessoa  Tipo de Produto   \n",
              "10              NaN                 NaN              NaN              NaN   \n",
              "11              NaN                 NaN              NaN              NaN   \n",
              "12              NaN                 NaN              NaN              NaN   \n",
              "\n",
              "           16                    17       18  \n",
              "0         NaN                   NaN      NaN  \n",
              "1         NaN                   NaN      NaN  \n",
              "2   Moradores  Percentual Cobertura      NaN  \n",
              "3         NaN                   NaN      NaN  \n",
              "4         NaN                   NaN      NaN  \n",
              "5         NaN                   NaN      NaN  \n",
              "6     2021-10               2021-11  2021-12  \n",
              "7     Acessos                   NaN      NaN  \n",
              "8         NaN                   NaN      NaN  \n",
              "9     Acessos                   NaN      NaN  \n",
              "10        NaN                   NaN      NaN  \n",
              "11        NaN                   NaN      NaN  \n",
              "12        NaN                   NaN      NaN  "
            ],
            "text/html": [
              "\n",
              "  <div id=\"df-0f6932ec-60d4-44bd-91cf-d00182df3e54\">\n",
              "    <div class=\"colab-df-container\">\n",
              "      <div>\n",
              "<style scoped>\n",
              "    .dataframe tbody tr th:only-of-type {\n",
              "        vertical-align: middle;\n",
              "    }\n",
              "\n",
              "    .dataframe tbody tr th {\n",
              "        vertical-align: top;\n",
              "    }\n",
              "\n",
              "    .dataframe thead th {\n",
              "        text-align: right;\n",
              "    }\n",
              "</style>\n",
              "<table border=\"1\" class=\"dataframe\">\n",
              "  <thead>\n",
              "    <tr style=\"text-align: right;\">\n",
              "      <th></th>\n",
              "      <th>Unnamed: 0</th>\n",
              "      <th>0</th>\n",
              "      <th>1</th>\n",
              "      <th>2</th>\n",
              "      <th>3</th>\n",
              "      <th>4</th>\n",
              "      <th>5</th>\n",
              "      <th>6</th>\n",
              "      <th>7</th>\n",
              "      <th>8</th>\n",
              "      <th>9</th>\n",
              "      <th>10</th>\n",
              "      <th>11</th>\n",
              "      <th>12</th>\n",
              "      <th>13</th>\n",
              "      <th>14</th>\n",
              "      <th>15</th>\n",
              "      <th>16</th>\n",
              "      <th>17</th>\n",
              "      <th>18</th>\n",
              "    </tr>\n",
              "  </thead>\n",
              "  <tbody>\n",
              "    <tr>\n",
              "      <th>0</th>\n",
              "      <td>0</td>\n",
              "      <td>Ano</td>\n",
              "      <td>Mês</td>\n",
              "      <td>Grupo Econômico</td>\n",
              "      <td>Empresa</td>\n",
              "      <td>CNPJ</td>\n",
              "      <td>Porte da Prestadora</td>\n",
              "      <td>UF</td>\n",
              "      <td>Município</td>\n",
              "      <td>Código IBGE Município</td>\n",
              "      <td>Faixa de Velocidade</td>\n",
              "      <td>Tecnologia</td>\n",
              "      <td>Meio de Acesso</td>\n",
              "      <td>Tipo de Pessoa</td>\n",
              "      <td>Acessos</td>\n",
              "      <td>NaN</td>\n",
              "      <td>NaN</td>\n",
              "      <td>NaN</td>\n",
              "      <td>NaN</td>\n",
              "      <td>NaN</td>\n",
              "    </tr>\n",
              "    <tr>\n",
              "      <th>1</th>\n",
              "      <td>1</td>\n",
              "      <td>Ano</td>\n",
              "      <td>Mês</td>\n",
              "      <td>Grupo Econômico</td>\n",
              "      <td>Empresa</td>\n",
              "      <td>CNPJ</td>\n",
              "      <td>Porte da Prestadora</td>\n",
              "      <td>UF</td>\n",
              "      <td>Município</td>\n",
              "      <td>Código IBGE Município</td>\n",
              "      <td>Tecnologia</td>\n",
              "      <td>Meio de Acesso</td>\n",
              "      <td>Tipo de Pessoa</td>\n",
              "      <td>Acessos</td>\n",
              "      <td>NaN</td>\n",
              "      <td>NaN</td>\n",
              "      <td>NaN</td>\n",
              "      <td>NaN</td>\n",
              "      <td>NaN</td>\n",
              "      <td>NaN</td>\n",
              "    </tr>\n",
              "    <tr>\n",
              "      <th>2</th>\n",
              "      <td>2</td>\n",
              "      <td>Ano</td>\n",
              "      <td>Operadora</td>\n",
              "      <td>Tecnologia</td>\n",
              "      <td>Código Setor Censitário</td>\n",
              "      <td>Bairro</td>\n",
              "      <td>Tipo Setor</td>\n",
              "      <td>Código Localidade</td>\n",
              "      <td>Nome Localidade</td>\n",
              "      <td>Categoria Localidade</td>\n",
              "      <td>Localidade Agregadora</td>\n",
              "      <td>Código Município</td>\n",
              "      <td>Município</td>\n",
              "      <td>UF</td>\n",
              "      <td>Região</td>\n",
              "      <td>Área (km2)</td>\n",
              "      <td>Domicílios</td>\n",
              "      <td>Moradores</td>\n",
              "      <td>Percentual Cobertura</td>\n",
              "      <td>NaN</td>\n",
              "    </tr>\n",
              "    <tr>\n",
              "      <th>3</th>\n",
              "      <td>3</td>\n",
              "      <td>Ano</td>\n",
              "      <td>Mês</td>\n",
              "      <td>Acessos</td>\n",
              "      <td>Serviço</td>\n",
              "      <td>Densidade</td>\n",
              "      <td>Código IBGE</td>\n",
              "      <td>Município</td>\n",
              "      <td>UF</td>\n",
              "      <td>Nome UF</td>\n",
              "      <td>Região</td>\n",
              "      <td>Código Nacional</td>\n",
              "      <td>NaN</td>\n",
              "      <td>NaN</td>\n",
              "      <td>NaN</td>\n",
              "      <td>NaN</td>\n",
              "      <td>NaN</td>\n",
              "      <td>NaN</td>\n",
              "      <td>NaN</td>\n",
              "      <td>NaN</td>\n",
              "    </tr>\n",
              "    <tr>\n",
              "      <th>4</th>\n",
              "      <td>4</td>\n",
              "      <td>Operadora</td>\n",
              "      <td>Tecnologia Cobertura</td>\n",
              "      <td>Moradores Cobertos</td>\n",
              "      <td>Domicílios Cobertos</td>\n",
              "      <td>Área km2 Coberta</td>\n",
              "      <td>Moradores Município</td>\n",
              "      <td>Domicílios Município</td>\n",
              "      <td>Área Município km2</td>\n",
              "      <td>Ano</td>\n",
              "      <td>Código IBGE</td>\n",
              "      <td>Município</td>\n",
              "      <td>UF</td>\n",
              "      <td>Nome UF</td>\n",
              "      <td>Região</td>\n",
              "      <td>Código Nacional</td>\n",
              "      <td>NaN</td>\n",
              "      <td>NaN</td>\n",
              "      <td>NaN</td>\n",
              "      <td>NaN</td>\n",
              "    </tr>\n",
              "    <tr>\n",
              "      <th>5</th>\n",
              "      <td>5</td>\n",
              "      <td>Ano</td>\n",
              "      <td>Mês</td>\n",
              "      <td>razao_social</td>\n",
              "      <td>cnpj</td>\n",
              "      <td>velocidade_contratada_mbps</td>\n",
              "      <td>uf</td>\n",
              "      <td>municipio</td>\n",
              "      <td>codigo_ibge</td>\n",
              "      <td>acessos</td>\n",
              "      <td>tipo</td>\n",
              "      <td>municipio_uf</td>\n",
              "      <td>NaN</td>\n",
              "      <td>NaN</td>\n",
              "      <td>NaN</td>\n",
              "      <td>NaN</td>\n",
              "      <td>NaN</td>\n",
              "      <td>NaN</td>\n",
              "      <td>NaN</td>\n",
              "      <td>NaN</td>\n",
              "    </tr>\n",
              "    <tr>\n",
              "      <th>6</th>\n",
              "      <td>6</td>\n",
              "      <td>CNPJ</td>\n",
              "      <td>Código Nacional</td>\n",
              "      <td>Município</td>\n",
              "      <td>UF</td>\n",
              "      <td>Modalidade de Cobrança</td>\n",
              "      <td>Tecnologia</td>\n",
              "      <td>Tecnologia Geração</td>\n",
              "      <td>Empresa</td>\n",
              "      <td>Porte da Prestadora</td>\n",
              "      <td>Tipo de Pessoa</td>\n",
              "      <td>Tipo de Produto</td>\n",
              "      <td>Código IBGE Município</td>\n",
              "      <td>Grupo Econômico</td>\n",
              "      <td>2021-07</td>\n",
              "      <td>2021-08</td>\n",
              "      <td>2021-09</td>\n",
              "      <td>2021-10</td>\n",
              "      <td>2021-11</td>\n",
              "      <td>2021-12</td>\n",
              "    </tr>\n",
              "    <tr>\n",
              "      <th>7</th>\n",
              "      <td>7</td>\n",
              "      <td>Ano</td>\n",
              "      <td>Mês</td>\n",
              "      <td>Grupo Econômico</td>\n",
              "      <td>Empresa</td>\n",
              "      <td>CNPJ</td>\n",
              "      <td>Porte da Prestadora</td>\n",
              "      <td>UF</td>\n",
              "      <td>Município</td>\n",
              "      <td>Código IBGE Município</td>\n",
              "      <td>Código Nacional</td>\n",
              "      <td>Código Nacional (Chip)</td>\n",
              "      <td>Modalidade de Cobrança</td>\n",
              "      <td>Tecnologia</td>\n",
              "      <td>Tecnologia Geração</td>\n",
              "      <td>Tipo de Pessoa</td>\n",
              "      <td>Tipo de Produto</td>\n",
              "      <td>Acessos</td>\n",
              "      <td>NaN</td>\n",
              "      <td>NaN</td>\n",
              "    </tr>\n",
              "    <tr>\n",
              "      <th>8</th>\n",
              "      <td>8</td>\n",
              "      <td>CNPJ</td>\n",
              "      <td>Código Nacional</td>\n",
              "      <td>Município</td>\n",
              "      <td>UF</td>\n",
              "      <td>Modalidade de Cobrança</td>\n",
              "      <td>Tecnologia</td>\n",
              "      <td>Tecnologia Geração</td>\n",
              "      <td>Empresa</td>\n",
              "      <td>Porte da Prestadora</td>\n",
              "      <td>Tipo de Pessoa</td>\n",
              "      <td>Tipo de Produto</td>\n",
              "      <td>Código IBGE Município</td>\n",
              "      <td>Grupo Econômico</td>\n",
              "      <td>2022-01</td>\n",
              "      <td>2022-02</td>\n",
              "      <td>2022-03</td>\n",
              "      <td>NaN</td>\n",
              "      <td>NaN</td>\n",
              "      <td>NaN</td>\n",
              "    </tr>\n",
              "    <tr>\n",
              "      <th>9</th>\n",
              "      <td>9</td>\n",
              "      <td>Ano</td>\n",
              "      <td>Mês</td>\n",
              "      <td>Grupo Econômico</td>\n",
              "      <td>Empresa</td>\n",
              "      <td>CNPJ</td>\n",
              "      <td>Porte da Prestadora</td>\n",
              "      <td>UF</td>\n",
              "      <td>Município</td>\n",
              "      <td>Código IBGE Município</td>\n",
              "      <td>Código Nacional</td>\n",
              "      <td>Código Nacional (Chip)</td>\n",
              "      <td>Modalidade de Cobrança</td>\n",
              "      <td>Tecnologia</td>\n",
              "      <td>Tecnologia Geração</td>\n",
              "      <td>Tipo de Pessoa</td>\n",
              "      <td>Tipo de Produto</td>\n",
              "      <td>Acessos</td>\n",
              "      <td>NaN</td>\n",
              "      <td>NaN</td>\n",
              "    </tr>\n",
              "    <tr>\n",
              "      <th>10</th>\n",
              "      <td>10</td>\n",
              "      <td>Ano</td>\n",
              "      <td>Mês</td>\n",
              "      <td>Modalidade de Cobrança</td>\n",
              "      <td>Acessos</td>\n",
              "      <td>NaN</td>\n",
              "      <td>NaN</td>\n",
              "      <td>NaN</td>\n",
              "      <td>NaN</td>\n",
              "      <td>NaN</td>\n",
              "      <td>NaN</td>\n",
              "      <td>NaN</td>\n",
              "      <td>NaN</td>\n",
              "      <td>NaN</td>\n",
              "      <td>NaN</td>\n",
              "      <td>NaN</td>\n",
              "      <td>NaN</td>\n",
              "      <td>NaN</td>\n",
              "      <td>NaN</td>\n",
              "      <td>NaN</td>\n",
              "    </tr>\n",
              "    <tr>\n",
              "      <th>11</th>\n",
              "      <td>11</td>\n",
              "      <td>Ano</td>\n",
              "      <td>Mês</td>\n",
              "      <td>Acessos</td>\n",
              "      <td>NaN</td>\n",
              "      <td>NaN</td>\n",
              "      <td>NaN</td>\n",
              "      <td>NaN</td>\n",
              "      <td>NaN</td>\n",
              "      <td>NaN</td>\n",
              "      <td>NaN</td>\n",
              "      <td>NaN</td>\n",
              "      <td>NaN</td>\n",
              "      <td>NaN</td>\n",
              "      <td>NaN</td>\n",
              "      <td>NaN</td>\n",
              "      <td>NaN</td>\n",
              "      <td>NaN</td>\n",
              "      <td>NaN</td>\n",
              "      <td>NaN</td>\n",
              "    </tr>\n",
              "    <tr>\n",
              "      <th>12</th>\n",
              "      <td>12</td>\n",
              "      <td>Ano</td>\n",
              "      <td>Mês</td>\n",
              "      <td>UF</td>\n",
              "      <td>Município</td>\n",
              "      <td>Código IBGE</td>\n",
              "      <td>Densidade</td>\n",
              "      <td>Nível Geográfico Densidade</td>\n",
              "      <td>NaN</td>\n",
              "      <td>NaN</td>\n",
              "      <td>NaN</td>\n",
              "      <td>NaN</td>\n",
              "      <td>NaN</td>\n",
              "      <td>NaN</td>\n",
              "      <td>NaN</td>\n",
              "      <td>NaN</td>\n",
              "      <td>NaN</td>\n",
              "      <td>NaN</td>\n",
              "      <td>NaN</td>\n",
              "      <td>NaN</td>\n",
              "    </tr>\n",
              "  </tbody>\n",
              "</table>\n",
              "</div>\n",
              "      <button class=\"colab-df-convert\" onclick=\"convertToInteractive('df-0f6932ec-60d4-44bd-91cf-d00182df3e54')\"\n",
              "              title=\"Convert this dataframe to an interactive table.\"\n",
              "              style=\"display:none;\">\n",
              "        \n",
              "  <svg xmlns=\"http://www.w3.org/2000/svg\" height=\"24px\"viewBox=\"0 0 24 24\"\n",
              "       width=\"24px\">\n",
              "    <path d=\"M0 0h24v24H0V0z\" fill=\"none\"/>\n",
              "    <path d=\"M18.56 5.44l.94 2.06.94-2.06 2.06-.94-2.06-.94-.94-2.06-.94 2.06-2.06.94zm-11 1L8.5 8.5l.94-2.06 2.06-.94-2.06-.94L8.5 2.5l-.94 2.06-2.06.94zm10 10l.94 2.06.94-2.06 2.06-.94-2.06-.94-.94-2.06-.94 2.06-2.06.94z\"/><path d=\"M17.41 7.96l-1.37-1.37c-.4-.4-.92-.59-1.43-.59-.52 0-1.04.2-1.43.59L10.3 9.45l-7.72 7.72c-.78.78-.78 2.05 0 2.83L4 21.41c.39.39.9.59 1.41.59.51 0 1.02-.2 1.41-.59l7.78-7.78 2.81-2.81c.8-.78.8-2.07 0-2.86zM5.41 20L4 18.59l7.72-7.72 1.47 1.35L5.41 20z\"/>\n",
              "  </svg>\n",
              "      </button>\n",
              "      \n",
              "  <style>\n",
              "    .colab-df-container {\n",
              "      display:flex;\n",
              "      flex-wrap:wrap;\n",
              "      gap: 12px;\n",
              "    }\n",
              "\n",
              "    .colab-df-convert {\n",
              "      background-color: #E8F0FE;\n",
              "      border: none;\n",
              "      border-radius: 50%;\n",
              "      cursor: pointer;\n",
              "      display: none;\n",
              "      fill: #1967D2;\n",
              "      height: 32px;\n",
              "      padding: 0 0 0 0;\n",
              "      width: 32px;\n",
              "    }\n",
              "\n",
              "    .colab-df-convert:hover {\n",
              "      background-color: #E2EBFA;\n",
              "      box-shadow: 0px 1px 2px rgba(60, 64, 67, 0.3), 0px 1px 3px 1px rgba(60, 64, 67, 0.15);\n",
              "      fill: #174EA6;\n",
              "    }\n",
              "\n",
              "    [theme=dark] .colab-df-convert {\n",
              "      background-color: #3B4455;\n",
              "      fill: #D2E3FC;\n",
              "    }\n",
              "\n",
              "    [theme=dark] .colab-df-convert:hover {\n",
              "      background-color: #434B5C;\n",
              "      box-shadow: 0px 1px 3px 1px rgba(0, 0, 0, 0.15);\n",
              "      filter: drop-shadow(0px 1px 2px rgba(0, 0, 0, 0.3));\n",
              "      fill: #FFFFFF;\n",
              "    }\n",
              "  </style>\n",
              "\n",
              "      <script>\n",
              "        const buttonEl =\n",
              "          document.querySelector('#df-0f6932ec-60d4-44bd-91cf-d00182df3e54 button.colab-df-convert');\n",
              "        buttonEl.style.display =\n",
              "          google.colab.kernel.accessAllowed ? 'block' : 'none';\n",
              "\n",
              "        async function convertToInteractive(key) {\n",
              "          const element = document.querySelector('#df-0f6932ec-60d4-44bd-91cf-d00182df3e54');\n",
              "          const dataTable =\n",
              "            await google.colab.kernel.invokeFunction('convertToInteractive',\n",
              "                                                     [key], {});\n",
              "          if (!dataTable) return;\n",
              "\n",
              "          const docLinkHtml = 'Like what you see? Visit the ' +\n",
              "            '<a target=\"_blank\" href=https://colab.research.google.com/notebooks/data_table.ipynb>data table notebook</a>'\n",
              "            + ' to learn more about interactive tables.';\n",
              "          element.innerHTML = '';\n",
              "          dataTable['output_type'] = 'display_data';\n",
              "          await google.colab.output.renderOutput(dataTable, element);\n",
              "          const docLink = document.createElement('div');\n",
              "          docLink.innerHTML = docLinkHtml;\n",
              "          element.appendChild(docLink);\n",
              "        }\n",
              "      </script>\n",
              "    </div>\n",
              "  </div>\n",
              "  "
            ]
          },
          "metadata": {},
          "execution_count": 85
        }
      ]
    },
    {
      "cell_type": "markdown",
      "source": [
        "## spark"
      ],
      "metadata": {
        "id": "VwHYf7eDAm_h"
      }
    },
    {
      "cell_type": "code",
      "source": [
        "dftcol_spark=(spark.read.format('csv')\n",
        "                    .option('delimiter',',')\n",
        "                    .option('header','true')\n",
        "                    .load('/content/drive/MyDrive/arquivos/tabelaColunas.csv')\n",
        "    \n",
        ")"
      ],
      "metadata": {
        "id": "vo1TXvk0AdOd"
      },
      "execution_count": 81,
      "outputs": []
    },
    {
      "cell_type": "code",
      "source": [
        "dftcol_spark.show()"
      ],
      "metadata": {
        "colab": {
          "base_uri": "https://localhost:8080/"
        },
        "id": "9ga07gOcAdJx",
        "outputId": "f598ef40-3ca0-4ba5-dfce-232f3bad079a"
      },
      "execution_count": 82,
      "outputs": [
        {
          "output_type": "stream",
          "name": "stdout",
          "text": [
            "+---+---------+--------------------+--------------------+--------------------+--------------------+-------------------+--------------------+------------------+--------------------+--------------------+--------------------+--------------------+---------------+------------------+---------------+---------------+---------+--------------------+-------+\n",
            "|_c0|        0|                   1|                   2|                   3|                   4|                  5|                   6|                 7|                   8|                   9|                  10|                  11|             12|                13|             14|             15|       16|                  17|     18|\n",
            "+---+---------+--------------------+--------------------+--------------------+--------------------+-------------------+--------------------+------------------+--------------------+--------------------+--------------------+--------------------+---------------+------------------+---------------+---------------+---------+--------------------+-------+\n",
            "|  0|      Ano|                 Mês|     Grupo Econômico|             Empresa|                CNPJ|Porte da Prestadora|                  UF|         Município|Código IBGE Munic...| Faixa de Velocidade|          Tecnologia|      Meio de Acesso| Tipo de Pessoa|           Acessos|           null|           null|     null|                null|   null|\n",
            "|  1|      Ano|                 Mês|     Grupo Econômico|             Empresa|                CNPJ|Porte da Prestadora|                  UF|         Município|Código IBGE Munic...|          Tecnologia|      Meio de Acesso|      Tipo de Pessoa|        Acessos|              null|           null|           null|     null|                null|   null|\n",
            "|  2|      Ano|           Operadora|          Tecnologia|Código Setor Cens...|              Bairro|         Tipo Setor|   Código Localidade|   Nome Localidade|Categoria Localidade|Localidade Agrega...|    Código Município|           Município|             UF|            Região|     Área (km2)|     Domicílios|Moradores|Percentual Cobertura|   null|\n",
            "|  3|      Ano|                 Mês|             Acessos|             Serviço|           Densidade|        Código IBGE|           Município|                UF|             Nome UF|              Região|     Código Nacional|                null|           null|              null|           null|           null|     null|                null|   null|\n",
            "|  4|Operadora|Tecnologia Cobertura|  Moradores Cobertos| Domicílios Cobertos|    Área km2 Coberta|Moradores Município|Domicílios Município|Área Município km2|                 Ano|         Código IBGE|           Município|                  UF|        Nome UF|            Região|Código Nacional|           null|     null|                null|   null|\n",
            "|  5|      Ano|                 Mês|        razao_social|                cnpj|velocidade_contra...|                 uf|           municipio|       codigo_ibge|             acessos|                tipo|        municipio_uf|                null|           null|              null|           null|           null|     null|                null|   null|\n",
            "|  6|     CNPJ|     Código Nacional|           Município|                  UF|Modalidade de Cob...|         Tecnologia|  Tecnologia Geração|           Empresa| Porte da Prestadora|      Tipo de Pessoa|     Tipo de Produto|Código IBGE Munic...|Grupo Econômico|           2021-07|        2021-08|        2021-09|  2021-10|             2021-11|2021-12|\n",
            "|  7|      Ano|                 Mês|     Grupo Econômico|             Empresa|                CNPJ|Porte da Prestadora|                  UF|         Município|Código IBGE Munic...|     Código Nacional|Código Nacional (...|Modalidade de Cob...|     Tecnologia|Tecnologia Geração| Tipo de Pessoa|Tipo de Produto|  Acessos|                null|   null|\n",
            "|  8|     CNPJ|     Código Nacional|           Município|                  UF|Modalidade de Cob...|         Tecnologia|  Tecnologia Geração|           Empresa| Porte da Prestadora|      Tipo de Pessoa|     Tipo de Produto|Código IBGE Munic...|Grupo Econômico|           2022-01|        2022-02|        2022-03|     null|                null|   null|\n",
            "|  9|      Ano|                 Mês|     Grupo Econômico|             Empresa|                CNPJ|Porte da Prestadora|                  UF|         Município|Código IBGE Munic...|     Código Nacional|Código Nacional (...|Modalidade de Cob...|     Tecnologia|Tecnologia Geração| Tipo de Pessoa|Tipo de Produto|  Acessos|                null|   null|\n",
            "| 10|      Ano|                 Mês|Modalidade de Cob...|             Acessos|                null|               null|                null|              null|                null|                null|                null|                null|           null|              null|           null|           null|     null|                null|   null|\n",
            "| 11|      Ano|                 Mês|             Acessos|                null|                null|               null|                null|              null|                null|                null|                null|                null|           null|              null|           null|           null|     null|                null|   null|\n",
            "| 12|      Ano|                 Mês|                  UF|           Município|         Código IBGE|          Densidade|Nível Geográfico ...|              null|                null|                null|                null|                null|           null|              null|           null|           null|     null|                null|   null|\n",
            "+---+---------+--------------------+--------------------+--------------------+--------------------+-------------------+--------------------+------------------+--------------------+--------------------+--------------------+--------------------+---------------+------------------+---------------+---------------+---------+--------------------+-------+\n",
            "\n"
          ]
        }
      ]
    },
    {
      "cell_type": "code",
      "source": [
        "df[df.isna().any(axis=1)]\n"
      ],
      "metadata": {
        "id": "OcwYMWUHAdGR"
      },
      "execution_count": null,
      "outputs": []
    }
  ]
}